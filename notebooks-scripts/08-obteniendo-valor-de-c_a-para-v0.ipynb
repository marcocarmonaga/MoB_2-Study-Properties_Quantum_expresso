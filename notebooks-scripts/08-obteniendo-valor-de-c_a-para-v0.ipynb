{
 "cells": [
  {
   "cell_type": "markdown",
   "metadata": {},
   "source": [
    "# Obteniendo valor de $c/a$ y Energía, para el valor de $V0=177.91$"
   ]
  },
  {
   "cell_type": "markdown",
   "metadata": {},
   "source": [
    "## Importando liberías a utilizar"
   ]
  },
  {
   "cell_type": "code",
   "execution_count": 157,
   "metadata": {},
   "outputs": [],
   "source": [
    "import os\n",
    "import pandas as pd\n",
    "import numpy as np"
   ]
  },
  {
   "cell_type": "markdown",
   "metadata": {},
   "source": [
    "## Definiendo directorio principal"
   ]
  },
  {
   "cell_type": "code",
   "execution_count": 158,
   "metadata": {},
   "outputs": [],
   "source": [
    "directorio_principal = '/home/marcocarmonaga/Documents/MoB_2-Study-Properties_Quantum_expresso/notebooks-scripts'\n",
    "os.chdir(directorio_principal)"
   ]
  },
  {
   "cell_type": "markdown",
   "metadata": {},
   "source": [
    "## Cambiando a carpeta sobre la que se trabajará (directorio secundario)"
   ]
  },
  {
   "cell_type": "code",
   "execution_count": 159,
   "metadata": {},
   "outputs": [],
   "source": [
    "energia_total_directory = '../data/interim'\n",
    "os.chdir(energia_total_directory)"
   ]
  },
  {
   "cell_type": "markdown",
   "metadata": {},
   "source": [
    "## Listando archivos"
   ]
  },
  {
   "cell_type": "code",
   "execution_count": 160,
   "metadata": {},
   "outputs": [
    {
     "data": {
      "text/plain": [
       "['162_84',\n",
       " '159_3',\n",
       " '177_0',\n",
       " '166_38',\n",
       " '173_46',\n",
       " '177_91',\n",
       " '184_08',\n",
       " '191_16',\n",
       " '187_62',\n",
       " '169_92',\n",
       " '180_54',\n",
       " '194_7']"
      ]
     },
     "execution_count": 160,
     "metadata": {},
     "output_type": "execute_result"
    }
   ],
   "source": [
    "files = os.listdir()\n",
    "files"
   ]
  },
  {
   "cell_type": "markdown",
   "metadata": {},
   "source": [
    "## Creando carpeta para $V=177.91$"
   ]
  },
  {
   "cell_type": "code",
   "execution_count": 161,
   "metadata": {},
   "outputs": [],
   "source": [
    "try:\n",
    "    os.mkdir('177_91')\n",
    "    os.chdir('177_91')\n",
    "except:\n",
    "    os.chdir('177_91')"
   ]
  },
  {
   "cell_type": "markdown",
   "metadata": {},
   "source": [
    "## Creando subcarpetas"
   ]
  },
  {
   "cell_type": "code",
   "execution_count": 162,
   "metadata": {},
   "outputs": [],
   "source": [
    "subdirectorios = ['0_986','1_03','1_008','1_14','1_052','1_074','1_096','1_118','1_162','1_183','1_206']\n",
    "\n",
    "try:\n",
    "    for subdirectorio in subdirectorios:\n",
    "        os.mkdir(subdirectorio)\n",
    "        os.chdir(subdirectorio)\n",
    "        os.mkdir('tmp')\n",
    "        os.chdir('..')\n",
    "except:\n",
    "    pass"
   ]
  },
  {
   "cell_type": "markdown",
   "metadata": {},
   "source": [
    "## Definiendo función para obtener el valor del lattice parametro $a$ a partir de la siguiente ecuación\n",
    "\n",
    "$$\n",
    "V = \\frac{\\sqrt{3}}{2}a^3(c/a)\\quad \\Rightarrow \\quad a= \\sqrt[3]{\\frac{2V}{\\sqrt{3}\\cdot(c/a)}}\n",
    "$$\n",
    "\n",
    "Considerando que conocemos el valor de $V$ y $c/a$."
   ]
  },
  {
   "cell_type": "code",
   "execution_count": 163,
   "metadata": {},
   "outputs": [],
   "source": [
    "def a(V:float,c_a:float) -> float:\n",
    "    return round(np.cbrt((2 * V) / (np.sqrt(3) * c_a)),5)"
   ]
  },
  {
   "cell_type": "markdown",
   "metadata": {},
   "source": [
    "### Encontrando valores de a para cada valor de $c/a$ siguiente"
   ]
  },
  {
   "cell_type": "code",
   "execution_count": 164,
   "metadata": {},
   "outputs": [
    {
     "data": {
      "text/plain": [
       "[[0.986, 5.92831],\n",
       " [1.03, 5.84266],\n",
       " [1.008, 5.88486],\n",
       " [1.14, 5.64835],\n",
       " [1.052, 5.80165],\n",
       " [1.074, 5.76176],\n",
       " [1.096, 5.72295],\n",
       " [1.118, 5.68516],\n",
       " [1.162, 5.61248],\n",
       " [1.183, 5.57907],\n",
       " [1.206, 5.54337]]"
      ]
     },
     "execution_count": 164,
     "metadata": {},
     "output_type": "execute_result"
    }
   ],
   "source": [
    "c_a_s = [0.986,1.03,1.008,1.14,1.052,1.074,1.096,1.118,1.162,1.183,1.206]\n",
    "\n",
    "c_a_a_s = list()\n",
    "\n",
    "for c_a in c_a_s:\n",
    "    a_value = a(177.91,c_a)\n",
    "    c_a_a_s.append([c_a,a_value])\n",
    "\n",
    "c_a_a_s"
   ]
  },
  {
   "cell_type": "markdown",
   "metadata": {},
   "source": [
    "## Creando archivos archivo pw.in"
   ]
  },
  {
   "cell_type": "code",
   "execution_count": 165,
   "metadata": {},
   "outputs": [],
   "source": [
    "def creating_mob2_file(c_a_a):\n",
    "    crystal = r'{crystal}'\n",
    "    mob2_pw_file  = f''' &CONTROL\n",
    "    prefix='mob2',\n",
    "    pseudo_dir='/home/marcocarmonaga/Apps/qe-7.0/pseudo',\n",
    "    outdir='./tmp',\n",
    " /\n",
    " &SYSTEM\n",
    "    ibrav =  4,\n",
    "    celldm(1) = {c_a_a[1]}\n",
    "    celldm(3) = {c_a_a[0]}\n",
    "    nat =  3,\n",
    "    ntyp = 2,\n",
    "    nbnd = 20,\n",
    "    ecutwfc = 36.0,\n",
    "    occupations = 'smearing',\n",
    "    smearing = 'gauss',\n",
    "    degauss = 0.015,\n",
    " /\n",
    " &ELECTRONS\n",
    " /\n",
    "ATOMIC_SPECIES\n",
    "   Mo  95.95  Mo_ONCV_PBE-1.2.upf\n",
    "   B   10.81  B_ONCV_PBE-1.2.upf\n",
    "ATOMIC_POSITIONS {crystal}\n",
    "   Mo 0.00 0.00 0.00\n",
    "   B 0.666666667  0.333333333  0.5\n",
    "   B 0.333333333  0.666666667  0.5\n",
    "K_POINTS automatic\n",
    "   18 18 18   0 0 1\n",
    "'''\n",
    "    return mob2_pw_file"
   ]
  },
  {
   "cell_type": "code",
   "execution_count": 166,
   "metadata": {},
   "outputs": [
    {
     "data": {
      "text/plain": [
       "[[0.986,\n",
       "  5.92831,\n",
       "  \" &CONTROL\\n    prefix='mob2',\\n    pseudo_dir='/home/marcocarmonaga/Apps/qe-7.0/pseudo',\\n    outdir='./tmp',\\n /\\n &SYSTEM\\n    ibrav =  4,\\n    celldm(1) = 5.92831\\n    celldm(3) = 0.986\\n    nat =  3,\\n    ntyp = 2,\\n    nbnd = 20,\\n    ecutwfc = 36.0,\\n    occupations = 'smearing',\\n    smearing = 'gauss',\\n    degauss = 0.015,\\n /\\n &ELECTRONS\\n /\\nATOMIC_SPECIES\\n   Mo  95.95  Mo_ONCV_PBE-1.2.upf\\n   B   10.81  B_ONCV_PBE-1.2.upf\\nATOMIC_POSITIONS {crystal}\\n   Mo 0.00 0.00 0.00\\n   B 0.666666667  0.333333333  0.5\\n   B 0.333333333  0.666666667  0.5\\nK_POINTS automatic\\n   18 18 18   0 0 1\\n\"],\n",
       " [1.03,\n",
       "  5.84266,\n",
       "  \" &CONTROL\\n    prefix='mob2',\\n    pseudo_dir='/home/marcocarmonaga/Apps/qe-7.0/pseudo',\\n    outdir='./tmp',\\n /\\n &SYSTEM\\n    ibrav =  4,\\n    celldm(1) = 5.84266\\n    celldm(3) = 1.03\\n    nat =  3,\\n    ntyp = 2,\\n    nbnd = 20,\\n    ecutwfc = 36.0,\\n    occupations = 'smearing',\\n    smearing = 'gauss',\\n    degauss = 0.015,\\n /\\n &ELECTRONS\\n /\\nATOMIC_SPECIES\\n   Mo  95.95  Mo_ONCV_PBE-1.2.upf\\n   B   10.81  B_ONCV_PBE-1.2.upf\\nATOMIC_POSITIONS {crystal}\\n   Mo 0.00 0.00 0.00\\n   B 0.666666667  0.333333333  0.5\\n   B 0.333333333  0.666666667  0.5\\nK_POINTS automatic\\n   18 18 18   0 0 1\\n\"],\n",
       " [1.008,\n",
       "  5.88486,\n",
       "  \" &CONTROL\\n    prefix='mob2',\\n    pseudo_dir='/home/marcocarmonaga/Apps/qe-7.0/pseudo',\\n    outdir='./tmp',\\n /\\n &SYSTEM\\n    ibrav =  4,\\n    celldm(1) = 5.88486\\n    celldm(3) = 1.008\\n    nat =  3,\\n    ntyp = 2,\\n    nbnd = 20,\\n    ecutwfc = 36.0,\\n    occupations = 'smearing',\\n    smearing = 'gauss',\\n    degauss = 0.015,\\n /\\n &ELECTRONS\\n /\\nATOMIC_SPECIES\\n   Mo  95.95  Mo_ONCV_PBE-1.2.upf\\n   B   10.81  B_ONCV_PBE-1.2.upf\\nATOMIC_POSITIONS {crystal}\\n   Mo 0.00 0.00 0.00\\n   B 0.666666667  0.333333333  0.5\\n   B 0.333333333  0.666666667  0.5\\nK_POINTS automatic\\n   18 18 18   0 0 1\\n\"],\n",
       " [1.14,\n",
       "  5.64835,\n",
       "  \" &CONTROL\\n    prefix='mob2',\\n    pseudo_dir='/home/marcocarmonaga/Apps/qe-7.0/pseudo',\\n    outdir='./tmp',\\n /\\n &SYSTEM\\n    ibrav =  4,\\n    celldm(1) = 5.64835\\n    celldm(3) = 1.14\\n    nat =  3,\\n    ntyp = 2,\\n    nbnd = 20,\\n    ecutwfc = 36.0,\\n    occupations = 'smearing',\\n    smearing = 'gauss',\\n    degauss = 0.015,\\n /\\n &ELECTRONS\\n /\\nATOMIC_SPECIES\\n   Mo  95.95  Mo_ONCV_PBE-1.2.upf\\n   B   10.81  B_ONCV_PBE-1.2.upf\\nATOMIC_POSITIONS {crystal}\\n   Mo 0.00 0.00 0.00\\n   B 0.666666667  0.333333333  0.5\\n   B 0.333333333  0.666666667  0.5\\nK_POINTS automatic\\n   18 18 18   0 0 1\\n\"],\n",
       " [1.052,\n",
       "  5.80165,\n",
       "  \" &CONTROL\\n    prefix='mob2',\\n    pseudo_dir='/home/marcocarmonaga/Apps/qe-7.0/pseudo',\\n    outdir='./tmp',\\n /\\n &SYSTEM\\n    ibrav =  4,\\n    celldm(1) = 5.80165\\n    celldm(3) = 1.052\\n    nat =  3,\\n    ntyp = 2,\\n    nbnd = 20,\\n    ecutwfc = 36.0,\\n    occupations = 'smearing',\\n    smearing = 'gauss',\\n    degauss = 0.015,\\n /\\n &ELECTRONS\\n /\\nATOMIC_SPECIES\\n   Mo  95.95  Mo_ONCV_PBE-1.2.upf\\n   B   10.81  B_ONCV_PBE-1.2.upf\\nATOMIC_POSITIONS {crystal}\\n   Mo 0.00 0.00 0.00\\n   B 0.666666667  0.333333333  0.5\\n   B 0.333333333  0.666666667  0.5\\nK_POINTS automatic\\n   18 18 18   0 0 1\\n\"],\n",
       " [1.074,\n",
       "  5.76176,\n",
       "  \" &CONTROL\\n    prefix='mob2',\\n    pseudo_dir='/home/marcocarmonaga/Apps/qe-7.0/pseudo',\\n    outdir='./tmp',\\n /\\n &SYSTEM\\n    ibrav =  4,\\n    celldm(1) = 5.76176\\n    celldm(3) = 1.074\\n    nat =  3,\\n    ntyp = 2,\\n    nbnd = 20,\\n    ecutwfc = 36.0,\\n    occupations = 'smearing',\\n    smearing = 'gauss',\\n    degauss = 0.015,\\n /\\n &ELECTRONS\\n /\\nATOMIC_SPECIES\\n   Mo  95.95  Mo_ONCV_PBE-1.2.upf\\n   B   10.81  B_ONCV_PBE-1.2.upf\\nATOMIC_POSITIONS {crystal}\\n   Mo 0.00 0.00 0.00\\n   B 0.666666667  0.333333333  0.5\\n   B 0.333333333  0.666666667  0.5\\nK_POINTS automatic\\n   18 18 18   0 0 1\\n\"],\n",
       " [1.096,\n",
       "  5.72295,\n",
       "  \" &CONTROL\\n    prefix='mob2',\\n    pseudo_dir='/home/marcocarmonaga/Apps/qe-7.0/pseudo',\\n    outdir='./tmp',\\n /\\n &SYSTEM\\n    ibrav =  4,\\n    celldm(1) = 5.72295\\n    celldm(3) = 1.096\\n    nat =  3,\\n    ntyp = 2,\\n    nbnd = 20,\\n    ecutwfc = 36.0,\\n    occupations = 'smearing',\\n    smearing = 'gauss',\\n    degauss = 0.015,\\n /\\n &ELECTRONS\\n /\\nATOMIC_SPECIES\\n   Mo  95.95  Mo_ONCV_PBE-1.2.upf\\n   B   10.81  B_ONCV_PBE-1.2.upf\\nATOMIC_POSITIONS {crystal}\\n   Mo 0.00 0.00 0.00\\n   B 0.666666667  0.333333333  0.5\\n   B 0.333333333  0.666666667  0.5\\nK_POINTS automatic\\n   18 18 18   0 0 1\\n\"],\n",
       " [1.118,\n",
       "  5.68516,\n",
       "  \" &CONTROL\\n    prefix='mob2',\\n    pseudo_dir='/home/marcocarmonaga/Apps/qe-7.0/pseudo',\\n    outdir='./tmp',\\n /\\n &SYSTEM\\n    ibrav =  4,\\n    celldm(1) = 5.68516\\n    celldm(3) = 1.118\\n    nat =  3,\\n    ntyp = 2,\\n    nbnd = 20,\\n    ecutwfc = 36.0,\\n    occupations = 'smearing',\\n    smearing = 'gauss',\\n    degauss = 0.015,\\n /\\n &ELECTRONS\\n /\\nATOMIC_SPECIES\\n   Mo  95.95  Mo_ONCV_PBE-1.2.upf\\n   B   10.81  B_ONCV_PBE-1.2.upf\\nATOMIC_POSITIONS {crystal}\\n   Mo 0.00 0.00 0.00\\n   B 0.666666667  0.333333333  0.5\\n   B 0.333333333  0.666666667  0.5\\nK_POINTS automatic\\n   18 18 18   0 0 1\\n\"],\n",
       " [1.162,\n",
       "  5.61248,\n",
       "  \" &CONTROL\\n    prefix='mob2',\\n    pseudo_dir='/home/marcocarmonaga/Apps/qe-7.0/pseudo',\\n    outdir='./tmp',\\n /\\n &SYSTEM\\n    ibrav =  4,\\n    celldm(1) = 5.61248\\n    celldm(3) = 1.162\\n    nat =  3,\\n    ntyp = 2,\\n    nbnd = 20,\\n    ecutwfc = 36.0,\\n    occupations = 'smearing',\\n    smearing = 'gauss',\\n    degauss = 0.015,\\n /\\n &ELECTRONS\\n /\\nATOMIC_SPECIES\\n   Mo  95.95  Mo_ONCV_PBE-1.2.upf\\n   B   10.81  B_ONCV_PBE-1.2.upf\\nATOMIC_POSITIONS {crystal}\\n   Mo 0.00 0.00 0.00\\n   B 0.666666667  0.333333333  0.5\\n   B 0.333333333  0.666666667  0.5\\nK_POINTS automatic\\n   18 18 18   0 0 1\\n\"],\n",
       " [1.183,\n",
       "  5.57907,\n",
       "  \" &CONTROL\\n    prefix='mob2',\\n    pseudo_dir='/home/marcocarmonaga/Apps/qe-7.0/pseudo',\\n    outdir='./tmp',\\n /\\n &SYSTEM\\n    ibrav =  4,\\n    celldm(1) = 5.57907\\n    celldm(3) = 1.183\\n    nat =  3,\\n    ntyp = 2,\\n    nbnd = 20,\\n    ecutwfc = 36.0,\\n    occupations = 'smearing',\\n    smearing = 'gauss',\\n    degauss = 0.015,\\n /\\n &ELECTRONS\\n /\\nATOMIC_SPECIES\\n   Mo  95.95  Mo_ONCV_PBE-1.2.upf\\n   B   10.81  B_ONCV_PBE-1.2.upf\\nATOMIC_POSITIONS {crystal}\\n   Mo 0.00 0.00 0.00\\n   B 0.666666667  0.333333333  0.5\\n   B 0.333333333  0.666666667  0.5\\nK_POINTS automatic\\n   18 18 18   0 0 1\\n\"],\n",
       " [1.206,\n",
       "  5.54337,\n",
       "  \" &CONTROL\\n    prefix='mob2',\\n    pseudo_dir='/home/marcocarmonaga/Apps/qe-7.0/pseudo',\\n    outdir='./tmp',\\n /\\n &SYSTEM\\n    ibrav =  4,\\n    celldm(1) = 5.54337\\n    celldm(3) = 1.206\\n    nat =  3,\\n    ntyp = 2,\\n    nbnd = 20,\\n    ecutwfc = 36.0,\\n    occupations = 'smearing',\\n    smearing = 'gauss',\\n    degauss = 0.015,\\n /\\n &ELECTRONS\\n /\\nATOMIC_SPECIES\\n   Mo  95.95  Mo_ONCV_PBE-1.2.upf\\n   B   10.81  B_ONCV_PBE-1.2.upf\\nATOMIC_POSITIONS {crystal}\\n   Mo 0.00 0.00 0.00\\n   B 0.666666667  0.333333333  0.5\\n   B 0.333333333  0.666666667  0.5\\nK_POINTS automatic\\n   18 18 18   0 0 1\\n\"]]"
      ]
     },
     "execution_count": 166,
     "metadata": {},
     "output_type": "execute_result"
    }
   ],
   "source": [
    "c_a_s_pw_files = list()\n",
    "\n",
    "for c_a_a in c_a_a_s:\n",
    "   c_a_s_pw_files.append([c_a_a[0],c_a_a[1], creating_mob2_file(c_a_a)])\n",
    "\n",
    "c_a_s_pw_files"
   ]
  },
  {
   "cell_type": "markdown",
   "metadata": {},
   "source": [
    "## Guardando archivos en respectivas carpetas"
   ]
  },
  {
   "cell_type": "code",
   "execution_count": 167,
   "metadata": {},
   "outputs": [
    {
     "data": {
      "text/plain": [
       "'/home/marcocarmonaga/Documents/MoB_2-Study-Properties_Quantum_expresso/data/interim/177_91'"
      ]
     },
     "execution_count": 167,
     "metadata": {},
     "output_type": "execute_result"
    }
   ],
   "source": [
    "os.getcwd()"
   ]
  },
  {
   "cell_type": "code",
   "execution_count": 168,
   "metadata": {},
   "outputs": [],
   "source": [
    "for c_a_s_pw_file in c_a_s_pw_files:\n",
    "    subdirectory_name = str(c_a_s_pw_file[0]).replace('.','_')\n",
    "    os.chdir(subdirectory_name)\n",
    "    with open('mob2_pw.in','w') as file:\n",
    "        file.writelines(c_a_s_pw_file[2])\n",
    "        file.close()\n",
    "    os.chdir('..')"
   ]
  },
  {
   "cell_type": "markdown",
   "metadata": {},
   "source": [
    "## Regresando a directorio principal"
   ]
  },
  {
   "cell_type": "code",
   "execution_count": 169,
   "metadata": {},
   "outputs": [],
   "source": [
    "os.chdir(directorio_principal)"
   ]
  }
 ],
 "metadata": {
  "interpreter": {
   "hash": "9449b7975baa3b75bf9f8850799a9b45986a27edda55fbf504f3b36b29cce414"
  },
  "kernelspec": {
   "display_name": "Python 3.9.12 ('MoB2')",
   "language": "python",
   "name": "python3"
  },
  "language_info": {
   "codemirror_mode": {
    "name": "ipython",
    "version": 3
   },
   "file_extension": ".py",
   "mimetype": "text/x-python",
   "name": "python",
   "nbconvert_exporter": "python",
   "pygments_lexer": "ipython3",
   "version": "3.9.12"
  },
  "orig_nbformat": 4
 },
 "nbformat": 4,
 "nbformat_minor": 2
}
