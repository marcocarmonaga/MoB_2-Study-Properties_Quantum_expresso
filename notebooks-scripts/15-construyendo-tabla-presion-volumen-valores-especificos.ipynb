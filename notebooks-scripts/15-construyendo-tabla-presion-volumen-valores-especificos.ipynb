{
 "cells": [
  {
   "cell_type": "markdown",
   "metadata": {},
   "source": [
    "# Construyendo tabla con columnas: Presion, Volumen, c_a\n",
    "## Para valores específicos\n",
    "\n",
    "donde los valores de presión van desde los **0 GPa** hasta **150 GPa**.\n",
    "\n",
    "considerando las siguientes ecuaciones:\n",
    "\n",
    "$$\n",
    "P(V) = \\frac{3B_0}{2}\\left[ \\left(\\frac{V_{0}}{V}\\right)^{\\frac{7}{3}} -\\left(\\frac{V_{0}}{V}\\right)^{\\frac{5}{3}} \\right]\\left\\{1+\\frac{3}{4}\\left(B_0^\\prime-4\\right)\\left[ \\left(\\frac{V_{0}}{V}\\right)^{\\frac{7}{3}} -1 \\right]\\right\\}\n",
    "$$\n",
    "\n",
    "y\n",
    "\n",
    "$$\n",
    "(c/a)(V) = (c/a)(V_0) + \\alpha(1-V/V_0) + \\beta(1-V/V_0)^2\n",
    "$$\n",
    "\n",
    "con $\\alpha = -0.18024$, $\\beta = 0.13883$ y $(c/a)(V_0)=1.10154$\n"
   ]
  },
  {
   "cell_type": "markdown",
   "metadata": {},
   "source": [
    "## Importando liberías a utilizar"
   ]
  },
  {
   "cell_type": "code",
   "execution_count": 2,
   "metadata": {},
   "outputs": [],
   "source": [
    "import os\n",
    "import pandas as pd\n",
    "import numpy as np\n",
    "from scipy import optimize"
   ]
  },
  {
   "cell_type": "markdown",
   "metadata": {},
   "source": [
    "## Definiendo variables a utilizar"
   ]
  },
  {
   "cell_type": "code",
   "execution_count": 3,
   "metadata": {},
   "outputs": [],
   "source": [
    "V0 = 177.91\n",
    "B0 = 299.8\n",
    "B0_prima = 4.12\n",
    "c_a_V0 = 1.10154\n",
    "alpha = -0.18024\n",
    "beta = 0.13883"
   ]
  },
  {
   "cell_type": "markdown",
   "metadata": {},
   "source": [
    "## Definiendo funciones a utilizar"
   ]
  },
  {
   "cell_type": "code",
   "execution_count": 4,
   "metadata": {},
   "outputs": [],
   "source": [
    "def P(V):\n",
    "    return (3/2) * B0 * (((V0 / V)**(7/3)) - ((V0 / V)**(5/3))) * (1 + (3/4) * (B0_prima - 4) * (((V0 / V)**(7/3)) - 1))\n",
    "\n",
    "def c_a(V):\n",
    "    return c_a_V0 + alpha*(1 - (V / V0)) + beta*((1 - (V / V0))**2)"
   ]
  },
  {
   "cell_type": "markdown",
   "metadata": {},
   "source": [
    "## Construyendo dataframe"
   ]
  },
  {
   "cell_type": "code",
   "execution_count": 5,
   "metadata": {},
   "outputs": [
    {
     "data": {
      "text/html": [
       "<div>\n",
       "<style scoped>\n",
       "    .dataframe tbody tr th:only-of-type {\n",
       "        vertical-align: middle;\n",
       "    }\n",
       "\n",
       "    .dataframe tbody tr th {\n",
       "        vertical-align: top;\n",
       "    }\n",
       "\n",
       "    .dataframe thead th {\n",
       "        text-align: right;\n",
       "    }\n",
       "</style>\n",
       "<table border=\"1\" class=\"dataframe\">\n",
       "  <thead>\n",
       "    <tr style=\"text-align: right;\">\n",
       "      <th></th>\n",
       "      <th>Presion_GPa</th>\n",
       "    </tr>\n",
       "  </thead>\n",
       "  <tbody>\n",
       "    <tr>\n",
       "      <th>0</th>\n",
       "      <td>0</td>\n",
       "    </tr>\n",
       "    <tr>\n",
       "      <th>1</th>\n",
       "      <td>50</td>\n",
       "    </tr>\n",
       "    <tr>\n",
       "      <th>2</th>\n",
       "      <td>65</td>\n",
       "    </tr>\n",
       "    <tr>\n",
       "      <th>3</th>\n",
       "      <td>70</td>\n",
       "    </tr>\n",
       "    <tr>\n",
       "      <th>4</th>\n",
       "      <td>80</td>\n",
       "    </tr>\n",
       "    <tr>\n",
       "      <th>5</th>\n",
       "      <td>90</td>\n",
       "    </tr>\n",
       "    <tr>\n",
       "      <th>6</th>\n",
       "      <td>100</td>\n",
       "    </tr>\n",
       "    <tr>\n",
       "      <th>7</th>\n",
       "      <td>110</td>\n",
       "    </tr>\n",
       "    <tr>\n",
       "      <th>8</th>\n",
       "      <td>120</td>\n",
       "    </tr>\n",
       "    <tr>\n",
       "      <th>9</th>\n",
       "      <td>130</td>\n",
       "    </tr>\n",
       "    <tr>\n",
       "      <th>10</th>\n",
       "      <td>140</td>\n",
       "    </tr>\n",
       "    <tr>\n",
       "      <th>11</th>\n",
       "      <td>150</td>\n",
       "    </tr>\n",
       "  </tbody>\n",
       "</table>\n",
       "</div>"
      ],
      "text/plain": [
       "    Presion_GPa\n",
       "0             0\n",
       "1            50\n",
       "2            65\n",
       "3            70\n",
       "4            80\n",
       "5            90\n",
       "6           100\n",
       "7           110\n",
       "8           120\n",
       "9           130\n",
       "10          140\n",
       "11          150"
      ]
     },
     "execution_count": 5,
     "metadata": {},
     "output_type": "execute_result"
    }
   ],
   "source": [
    "df = pd.DataFrame()\n",
    "df['Presion_GPa'] = [0,50,65,70,80,90,100,110,120,130,140,150]\n",
    "df"
   ]
  },
  {
   "cell_type": "code",
   "execution_count": 6,
   "metadata": {},
   "outputs": [],
   "source": [
    "presion_valores = df['Presion_GPa'].to_list()\n",
    "\n",
    "volumenes = list()\n",
    "\n",
    "for presion_valor in presion_valores:\n",
    "    def Presion(V):\n",
    "        return (3/2) * B0 * (((V0 / V)**(7/3)) - ((V0 / V)**(5/3))) * (1 + (3/4) * (B0_prima - 4) * (((V0 / V)**(7/3)) - 1)) - presion_valor\n",
    "    \n",
    "    volumenes.append(round(optimize.fsolve(Presion,1)[0],5))"
   ]
  },
  {
   "cell_type": "code",
   "execution_count": 7,
   "metadata": {},
   "outputs": [],
   "source": [
    "df['Volumenes'] = volumenes\n",
    "df['c_a'] = df['Volumenes'].apply(lambda x: round(c_a(x),5))"
   ]
  },
  {
   "cell_type": "code",
   "execution_count": 8,
   "metadata": {},
   "outputs": [
    {
     "data": {
      "text/html": [
       "<div>\n",
       "<style scoped>\n",
       "    .dataframe tbody tr th:only-of-type {\n",
       "        vertical-align: middle;\n",
       "    }\n",
       "\n",
       "    .dataframe tbody tr th {\n",
       "        vertical-align: top;\n",
       "    }\n",
       "\n",
       "    .dataframe thead th {\n",
       "        text-align: right;\n",
       "    }\n",
       "</style>\n",
       "<table border=\"1\" class=\"dataframe\">\n",
       "  <thead>\n",
       "    <tr style=\"text-align: right;\">\n",
       "      <th></th>\n",
       "      <th>Presion_GPa</th>\n",
       "      <th>Volumenes</th>\n",
       "      <th>c_a</th>\n",
       "    </tr>\n",
       "  </thead>\n",
       "  <tbody>\n",
       "    <tr>\n",
       "      <th>0</th>\n",
       "      <td>0</td>\n",
       "      <td>177.91000</td>\n",
       "      <td>1.10154</td>\n",
       "    </tr>\n",
       "    <tr>\n",
       "      <th>1</th>\n",
       "      <td>50</td>\n",
       "      <td>156.88202</td>\n",
       "      <td>1.08218</td>\n",
       "    </tr>\n",
       "    <tr>\n",
       "      <th>2</th>\n",
       "      <td>65</td>\n",
       "      <td>152.59598</td>\n",
       "      <td>1.07871</td>\n",
       "    </tr>\n",
       "    <tr>\n",
       "      <th>3</th>\n",
       "      <td>70</td>\n",
       "      <td>151.29232</td>\n",
       "      <td>1.07768</td>\n",
       "    </tr>\n",
       "    <tr>\n",
       "      <th>4</th>\n",
       "      <td>80</td>\n",
       "      <td>148.84408</td>\n",
       "      <td>1.07580</td>\n",
       "    </tr>\n",
       "    <tr>\n",
       "      <th>5</th>\n",
       "      <td>90</td>\n",
       "      <td>146.58297</td>\n",
       "      <td>1.07411</td>\n",
       "    </tr>\n",
       "    <tr>\n",
       "      <th>6</th>\n",
       "      <td>100</td>\n",
       "      <td>144.48417</td>\n",
       "      <td>1.07258</td>\n",
       "    </tr>\n",
       "    <tr>\n",
       "      <th>7</th>\n",
       "      <td>110</td>\n",
       "      <td>142.52742</td>\n",
       "      <td>1.07119</td>\n",
       "    </tr>\n",
       "    <tr>\n",
       "      <th>8</th>\n",
       "      <td>120</td>\n",
       "      <td>140.69601</td>\n",
       "      <td>1.06991</td>\n",
       "    </tr>\n",
       "    <tr>\n",
       "      <th>9</th>\n",
       "      <td>130</td>\n",
       "      <td>138.97594</td>\n",
       "      <td>1.06874</td>\n",
       "    </tr>\n",
       "    <tr>\n",
       "      <th>10</th>\n",
       "      <td>140</td>\n",
       "      <td>137.35542</td>\n",
       "      <td>1.06767</td>\n",
       "    </tr>\n",
       "    <tr>\n",
       "      <th>11</th>\n",
       "      <td>150</td>\n",
       "      <td>135.82440</td>\n",
       "      <td>1.06667</td>\n",
       "    </tr>\n",
       "  </tbody>\n",
       "</table>\n",
       "</div>"
      ],
      "text/plain": [
       "    Presion_GPa  Volumenes      c_a\n",
       "0             0  177.91000  1.10154\n",
       "1            50  156.88202  1.08218\n",
       "2            65  152.59598  1.07871\n",
       "3            70  151.29232  1.07768\n",
       "4            80  148.84408  1.07580\n",
       "5            90  146.58297  1.07411\n",
       "6           100  144.48417  1.07258\n",
       "7           110  142.52742  1.07119\n",
       "8           120  140.69601  1.06991\n",
       "9           130  138.97594  1.06874\n",
       "10          140  137.35542  1.06767\n",
       "11          150  135.82440  1.06667"
      ]
     },
     "execution_count": 8,
     "metadata": {},
     "output_type": "execute_result"
    }
   ],
   "source": [
    "df"
   ]
  },
  {
   "cell_type": "markdown",
   "metadata": {},
   "source": [
    "## Exportando csv"
   ]
  },
  {
   "cell_type": "code",
   "execution_count": 9,
   "metadata": {},
   "outputs": [],
   "source": [
    "df.to_csv('../data/processed/presion-Volumen-c_a-valores-especificos.csv',index=False)"
   ]
  }
 ],
 "metadata": {
  "interpreter": {
   "hash": "9449b7975baa3b75bf9f8850799a9b45986a27edda55fbf504f3b36b29cce414"
  },
  "kernelspec": {
   "display_name": "Python 3.9.12 ('MoB2')",
   "language": "python",
   "name": "python3"
  },
  "language_info": {
   "codemirror_mode": {
    "name": "ipython",
    "version": 3
   },
   "file_extension": ".py",
   "mimetype": "text/x-python",
   "name": "python",
   "nbconvert_exporter": "python",
   "pygments_lexer": "ipython3",
   "version": "3.9.12"
  },
  "orig_nbformat": 4
 },
 "nbformat": 4,
 "nbformat_minor": 2
}
