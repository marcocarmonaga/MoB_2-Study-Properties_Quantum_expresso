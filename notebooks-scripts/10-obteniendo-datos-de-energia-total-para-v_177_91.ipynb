{
 "cells": [
  {
   "cell_type": "markdown",
   "metadata": {},
   "source": [
    "# Obteniendo datos de la energia total para $V=177.91$"
   ]
  },
  {
   "cell_type": "code",
   "execution_count": 48,
   "metadata": {},
   "outputs": [],
   "source": [
    "import os\n",
    "import pandas as pd"
   ]
  },
  {
   "cell_type": "markdown",
   "metadata": {},
   "source": [
    "## Definiendo directorio principal"
   ]
  },
  {
   "cell_type": "code",
   "execution_count": 49,
   "metadata": {},
   "outputs": [],
   "source": [
    "directorio_principal = '/home/marcocarmonaga/Documents/MoB_2-Study-Properties_Quantum_expresso/notebooks-scripts'\n",
    "os.chdir(directorio_principal)"
   ]
  },
  {
   "cell_type": "markdown",
   "metadata": {},
   "source": [
    "## Cambiando a carpeta sobre la que se trabajará (directorio secundario)"
   ]
  },
  {
   "cell_type": "code",
   "execution_count": 50,
   "metadata": {},
   "outputs": [],
   "source": [
    "energia_total_directory = '../data/interim/177_91'\n",
    "os.chdir(energia_total_directory)"
   ]
  },
  {
   "cell_type": "markdown",
   "metadata": {},
   "source": [
    "## Extrayendo linea de energia total y guardandola en una lista."
   ]
  },
  {
   "cell_type": "code",
   "execution_count": 51,
   "metadata": {},
   "outputs": [
    {
     "data": {
      "text/plain": [
       "[[1.162, -148.56234417],\n",
       " [1.074, -148.56450904],\n",
       " [1.008, -148.55939842],\n",
       " [1.183, -148.55995638],\n",
       " [0.986, -148.55619625],\n",
       " [1.206, -148.55652224],\n",
       " [1.052, -148.56334495],\n",
       " [1.096, -148.5650878],\n",
       " [1.03, -148.56168579],\n",
       " [1.14, -148.56405385],\n",
       " [1.118, -148.5649574]]"
      ]
     },
     "execution_count": 51,
     "metadata": {},
     "output_type": "execute_result"
    }
   ],
   "source": [
    "directorios_volumenes = os.listdir()\n",
    "\n",
    "energia_total = list()\n",
    "\n",
    "for directorio_volumen in directorios_volumenes:\n",
    "    os.chdir(directorio_volumen)\n",
    "    with open('mob2_pw.out','r') as file:\n",
    "            for line in file:\n",
    "                if '!' in line:\n",
    "                    line = line[36:49]\n",
    "                    energia_total.append([float(directorio_volumen.replace('_','.')),float(line)])\n",
    "    os.chdir('..')\n",
    "\n",
    "energia_total"
   ]
  },
  {
   "cell_type": "markdown",
   "metadata": {},
   "source": [
    "## Creando archivo csv"
   ]
  },
  {
   "cell_type": "code",
   "execution_count": 52,
   "metadata": {},
   "outputs": [],
   "source": [
    "os.chdir('../../processed/energia-total-por-volumen')\n",
    "\n",
    "df = pd.DataFrame(energia_total,columns=['c_a_value','Energy'])\n",
    "df.sort_values(by='c_a_value',inplace=True)\n",
    "df.to_csv('177_91.csv',index=False)"
   ]
  },
  {
   "cell_type": "markdown",
   "metadata": {},
   "source": [
    "## Regresando a directorio principal"
   ]
  },
  {
   "cell_type": "code",
   "execution_count": 53,
   "metadata": {},
   "outputs": [],
   "source": [
    "os.chdir(directorio_principal)"
   ]
  }
 ],
 "metadata": {
  "interpreter": {
   "hash": "9449b7975baa3b75bf9f8850799a9b45986a27edda55fbf504f3b36b29cce414"
  },
  "kernelspec": {
   "display_name": "Python 3.9.12 ('MoB2')",
   "language": "python",
   "name": "python3"
  },
  "language_info": {
   "codemirror_mode": {
    "name": "ipython",
    "version": 3
   },
   "file_extension": ".py",
   "mimetype": "text/x-python",
   "name": "python",
   "nbconvert_exporter": "python",
   "pygments_lexer": "ipython3",
   "version": "3.9.12"
  },
  "orig_nbformat": 4
 },
 "nbformat": 4,
 "nbformat_minor": 2
}
