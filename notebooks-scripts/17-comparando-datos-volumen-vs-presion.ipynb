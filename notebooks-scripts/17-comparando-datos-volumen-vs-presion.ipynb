{
 "cells": [
  {
   "cell_type": "markdown",
   "metadata": {},
   "source": [
    "# Comparando valores obtenidos entre Elk-code y Quantum Espresso"
   ]
  },
  {
   "cell_type": "markdown",
   "metadata": {},
   "source": [
    "## Importando librerías a utilizar"
   ]
  },
  {
   "cell_type": "code",
   "execution_count": 2,
   "metadata": {},
   "outputs": [],
   "source": [
    "import os\n",
    "import pandas as pd\n",
    "import numpy as np\n",
    "import matplotlib.pyplot as plt"
   ]
  },
  {
   "cell_type": "markdown",
   "metadata": {},
   "source": [
    "## Importando dataframes"
   ]
  },
  {
   "cell_type": "code",
   "execution_count": 3,
   "metadata": {},
   "outputs": [
    {
     "data": {
      "text/html": [
       "<div>\n",
       "<style scoped>\n",
       "    .dataframe tbody tr th:only-of-type {\n",
       "        vertical-align: middle;\n",
       "    }\n",
       "\n",
       "    .dataframe tbody tr th {\n",
       "        vertical-align: top;\n",
       "    }\n",
       "\n",
       "    .dataframe thead th {\n",
       "        text-align: right;\n",
       "    }\n",
       "</style>\n",
       "<table border=\"1\" class=\"dataframe\">\n",
       "  <thead>\n",
       "    <tr style=\"text-align: right;\">\n",
       "      <th></th>\n",
       "      <th>Presion_GPa</th>\n",
       "      <th>Volumenes</th>\n",
       "      <th>c_a</th>\n",
       "    </tr>\n",
       "  </thead>\n",
       "  <tbody>\n",
       "    <tr>\n",
       "      <th>0</th>\n",
       "      <td>0</td>\n",
       "      <td>177.91000</td>\n",
       "      <td>1.10154</td>\n",
       "    </tr>\n",
       "    <tr>\n",
       "      <th>1</th>\n",
       "      <td>1</td>\n",
       "      <td>177.32187</td>\n",
       "      <td>1.10095</td>\n",
       "    </tr>\n",
       "    <tr>\n",
       "      <th>2</th>\n",
       "      <td>2</td>\n",
       "      <td>176.74411</td>\n",
       "      <td>1.10036</td>\n",
       "    </tr>\n",
       "    <tr>\n",
       "      <th>3</th>\n",
       "      <td>3</td>\n",
       "      <td>176.17637</td>\n",
       "      <td>1.09980</td>\n",
       "    </tr>\n",
       "    <tr>\n",
       "      <th>4</th>\n",
       "      <td>4</td>\n",
       "      <td>175.61831</td>\n",
       "      <td>1.09924</td>\n",
       "    </tr>\n",
       "    <tr>\n",
       "      <th>...</th>\n",
       "      <td>...</td>\n",
       "      <td>...</td>\n",
       "      <td>...</td>\n",
       "    </tr>\n",
       "    <tr>\n",
       "      <th>146</th>\n",
       "      <td>146</td>\n",
       "      <td>136.42665</td>\n",
       "      <td>1.06706</td>\n",
       "    </tr>\n",
       "    <tr>\n",
       "      <th>147</th>\n",
       "      <td>147</td>\n",
       "      <td>136.27485</td>\n",
       "      <td>1.06696</td>\n",
       "    </tr>\n",
       "    <tr>\n",
       "      <th>148</th>\n",
       "      <td>148</td>\n",
       "      <td>136.12388</td>\n",
       "      <td>1.06687</td>\n",
       "    </tr>\n",
       "    <tr>\n",
       "      <th>149</th>\n",
       "      <td>149</td>\n",
       "      <td>135.97373</td>\n",
       "      <td>1.06677</td>\n",
       "    </tr>\n",
       "    <tr>\n",
       "      <th>150</th>\n",
       "      <td>150</td>\n",
       "      <td>135.82440</td>\n",
       "      <td>1.06667</td>\n",
       "    </tr>\n",
       "  </tbody>\n",
       "</table>\n",
       "<p>151 rows × 3 columns</p>\n",
       "</div>"
      ],
      "text/plain": [
       "     Presion_GPa  Volumenes      c_a\n",
       "0              0  177.91000  1.10154\n",
       "1              1  177.32187  1.10095\n",
       "2              2  176.74411  1.10036\n",
       "3              3  176.17637  1.09980\n",
       "4              4  175.61831  1.09924\n",
       "..           ...        ...      ...\n",
       "146          146  136.42665  1.06706\n",
       "147          147  136.27485  1.06696\n",
       "148          148  136.12388  1.06687\n",
       "149          149  135.97373  1.06677\n",
       "150          150  135.82440  1.06667\n",
       "\n",
       "[151 rows x 3 columns]"
      ]
     },
     "execution_count": 3,
     "metadata": {},
     "output_type": "execute_result"
    }
   ],
   "source": [
    "quantum_data = '../data/processed/presion-Volumen-c_a-0-150-GPa.csv'\n",
    "quantum_df = pd.read_csv(quantum_data)\n",
    "quantum_df"
   ]
  },
  {
   "cell_type": "code",
   "execution_count": 4,
   "metadata": {},
   "outputs": [
    {
     "data": {
      "text/html": [
       "<div>\n",
       "<style scoped>\n",
       "    .dataframe tbody tr th:only-of-type {\n",
       "        vertical-align: middle;\n",
       "    }\n",
       "\n",
       "    .dataframe tbody tr th {\n",
       "        vertical-align: top;\n",
       "    }\n",
       "\n",
       "    .dataframe thead th {\n",
       "        text-align: right;\n",
       "    }\n",
       "</style>\n",
       "<table border=\"1\" class=\"dataframe\">\n",
       "  <thead>\n",
       "    <tr style=\"text-align: right;\">\n",
       "      <th></th>\n",
       "      <th>Presion_GPa</th>\n",
       "      <th>Volumenes</th>\n",
       "      <th>c_a</th>\n",
       "    </tr>\n",
       "  </thead>\n",
       "  <tbody>\n",
       "    <tr>\n",
       "      <th>0</th>\n",
       "      <td>0</td>\n",
       "      <td>178.343759</td>\n",
       "      <td>1.095858</td>\n",
       "    </tr>\n",
       "    <tr>\n",
       "      <th>1</th>\n",
       "      <td>1</td>\n",
       "      <td>177.757068</td>\n",
       "      <td>1.095229</td>\n",
       "    </tr>\n",
       "    <tr>\n",
       "      <th>2</th>\n",
       "      <td>2</td>\n",
       "      <td>177.180234</td>\n",
       "      <td>1.094613</td>\n",
       "    </tr>\n",
       "    <tr>\n",
       "      <th>3</th>\n",
       "      <td>3</td>\n",
       "      <td>176.612938</td>\n",
       "      <td>1.094009</td>\n",
       "    </tr>\n",
       "    <tr>\n",
       "      <th>4</th>\n",
       "      <td>4</td>\n",
       "      <td>176.054877</td>\n",
       "      <td>1.093417</td>\n",
       "    </tr>\n",
       "    <tr>\n",
       "      <th>...</th>\n",
       "      <td>...</td>\n",
       "      <td>...</td>\n",
       "      <td>...</td>\n",
       "    </tr>\n",
       "    <tr>\n",
       "      <th>146</th>\n",
       "      <td>146</td>\n",
       "      <td>135.784613</td>\n",
       "      <td>1.055880</td>\n",
       "    </tr>\n",
       "    <tr>\n",
       "      <th>147</th>\n",
       "      <td>147</td>\n",
       "      <td>135.624386</td>\n",
       "      <td>1.055751</td>\n",
       "    </tr>\n",
       "    <tr>\n",
       "      <th>148</th>\n",
       "      <td>148</td>\n",
       "      <td>135.465002</td>\n",
       "      <td>1.055623</td>\n",
       "    </tr>\n",
       "    <tr>\n",
       "      <th>149</th>\n",
       "      <td>149</td>\n",
       "      <td>135.306454</td>\n",
       "      <td>1.055496</td>\n",
       "    </tr>\n",
       "    <tr>\n",
       "      <th>150</th>\n",
       "      <td>150</td>\n",
       "      <td>135.148733</td>\n",
       "      <td>1.055369</td>\n",
       "    </tr>\n",
       "  </tbody>\n",
       "</table>\n",
       "<p>151 rows × 3 columns</p>\n",
       "</div>"
      ],
      "text/plain": [
       "     Presion_GPa   Volumenes       c_a\n",
       "0              0  178.343759  1.095858\n",
       "1              1  177.757068  1.095229\n",
       "2              2  177.180234  1.094613\n",
       "3              3  176.612938  1.094009\n",
       "4              4  176.054877  1.093417\n",
       "..           ...         ...       ...\n",
       "146          146  135.784613  1.055880\n",
       "147          147  135.624386  1.055751\n",
       "148          148  135.465002  1.055623\n",
       "149          149  135.306454  1.055496\n",
       "150          150  135.148733  1.055369\n",
       "\n",
       "[151 rows x 3 columns]"
      ]
     },
     "execution_count": 4,
     "metadata": {},
     "output_type": "execute_result"
    }
   ],
   "source": [
    "elk_data = 'https://raw.githubusercontent.com/marcocarmonaga/MoB_2-Study-Properties_ELK_code/main/c_a_vs_Energy/fits/P_V_c_a.txt'\n",
    "elk_df = pd.read_csv(elk_data,sep=' ')\n",
    "elk_df.columns = quantum_df.columns\n",
    "elk_df"
   ]
  },
  {
   "cell_type": "markdown",
   "metadata": {},
   "source": [
    "## Creando comparación en formato de gráfica"
   ]
  },
  {
   "cell_type": "code",
   "execution_count": 6,
   "metadata": {},
   "outputs": [
    {
     "data": {
      "image/png": "[encoded data removed]",
      "text/plain": [
       "<Figure size 720x720 with 2 Axes>"
      ]
     },
     "metadata": {
      "needs_background": "light"
     },
     "output_type": "display_data"
    }
   ],
   "source": [
    "fig, (ax1,ax2) = plt.subplots(2,1, sharex='all',constrained_layout=True)\n",
    "fig.set_size_inches(10,10)\n",
    "ax1.plot(quantum_df.Presion_GPa,quantum_df.Volumenes,'black',label='Quantum Espresso')\n",
    "ax1.plot(elk_df.Presion_GPa, elk_df.Volumenes,'r', label='Elk code',)\n",
    "ax1.legend()\n",
    "ax1.set_title('Elk data vs Quantum data',fontsize=20)\n",
    "ax1.set_ylabel('Volumen',fontsize=16)\n",
    "\n",
    "ax2.plot(quantum_df.Presion_GPa,quantum_df.c_a,'black',label='Quantum Espresso')\n",
    "ax2.plot(elk_df.Presion_GPa, elk_df.c_a,'r', label='Elk code',)\n",
    "ax2.legend()\n",
    "ax2.set_xlabel('Presión',fontsize=16)\n",
    "ax2.set_ylabel('$c/a$ valor',fontsize=16)\n",
    "plt.savefig('../images/elk-data-vs-quantum-data.png',facecolor='white')\n",
    "plt.show()"
   ]
  }
 ],
 "metadata": {
  "interpreter": {
   "hash": "9449b7975baa3b75bf9f8850799a9b45986a27edda55fbf504f3b36b29cce414"
  },
  "kernelspec": {
   "display_name": "Python 3.9.12 ('MoB2')",
   "language": "python",
   "name": "python3"
  },
  "language_info": {
   "codemirror_mode": {
    "name": "ipython",
    "version": 3
   },
   "file_extension": ".py",
   "mimetype": "text/x-python",
   "name": "python",
   "nbconvert_exporter": "python",
   "pygments_lexer": "ipython3",
   "version": "3.9.12"
  },
  "orig_nbformat": 4
 },
 "nbformat": 4,
 "nbformat_minor": 2
}
