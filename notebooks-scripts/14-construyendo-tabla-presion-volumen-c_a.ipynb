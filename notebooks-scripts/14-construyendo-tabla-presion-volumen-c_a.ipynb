{
 "cells": [
  {
   "cell_type": "markdown",
   "metadata": {},
   "source": [
    "# Construyendo tabla con columnas: Presion, Volumen, c_a\n",
    "\n",
    "donde los valores de presión van desde los **0 GPa** hasta **150 GPa**.\n",
    "\n",
    "considerando las siguientes ecuaciones:\n",
    "\n",
    "$$\n",
    "P(V) = \\frac{3B_0}{2}\\left[ \\left(\\frac{V_{0}}{V}\\right)^{\\frac{7}{3}} -\\left(\\frac{V_{0}}{V}\\right)^{\\frac{5}{3}} \\right]\\left\\{1+\\frac{3}{4}\\left(B_0^\\prime-4\\right)\\left[ \\left(\\frac{V_{0}}{V}\\right)^{\\frac{7}{3}} -1 \\right]\\right\\}\n",
    "$$\n",
    "\n",
    "y\n",
    "\n",
    "$$\n",
    "(c/a)(V) = (c/a)(V_0) + \\alpha(1-V/V_0) + \\beta(1-V/V_0)^2\n",
    "$$\n",
    "\n",
    "con $\\alpha = -0.18024$, $\\beta = 0.13883$ y $(c/a)(V_0)=1.10154$\n"
   ]
  },
  {
   "cell_type": "markdown",
   "metadata": {},
   "source": [
    "## Importando liberías a utilizar"
   ]
  },
  {
   "cell_type": "code",
   "execution_count": 63,
   "metadata": {},
   "outputs": [],
   "source": [
    "import os\n",
    "import pandas as pd\n",
    "import numpy as np\n",
    "from scipy import optimize"
   ]
  },
  {
   "cell_type": "markdown",
   "metadata": {},
   "source": [
    "## Definiendo variables a utilizar"
   ]
  },
  {
   "cell_type": "code",
   "execution_count": 64,
   "metadata": {},
   "outputs": [],
   "source": [
    "V0 = 177.91\n",
    "B0 = 299.8\n",
    "B0_prima = 4.12\n",
    "c_a_V0 = 1.10154\n",
    "alpha = -0.18024\n",
    "beta = 0.13883"
   ]
  },
  {
   "cell_type": "markdown",
   "metadata": {},
   "source": [
    "## Definiendo funciones a utilizar"
   ]
  },
  {
   "cell_type": "code",
   "execution_count": 65,
   "metadata": {},
   "outputs": [],
   "source": [
    "def P(V):\n",
    "    return (3/2) * B0 * (((V0 / V)**(7/3)) - ((V0 / V)**(5/3))) * (1 + (3/4) * (B0_prima - 4) * (((V0 / V)**(7/3)) - 1))\n",
    "\n",
    "def c_a(V):\n",
    "    return c_a_V0 + alpha*(1 - (V / V0)) + beta*((1 - (V / V0))**2)"
   ]
  },
  {
   "cell_type": "markdown",
   "metadata": {},
   "source": [
    "## Construyendo dataframe"
   ]
  },
  {
   "cell_type": "code",
   "execution_count": 66,
   "metadata": {},
   "outputs": [
    {
     "data": {
      "text/html": [
       "<div>\n",
       "<style scoped>\n",
       "    .dataframe tbody tr th:only-of-type {\n",
       "        vertical-align: middle;\n",
       "    }\n",
       "\n",
       "    .dataframe tbody tr th {\n",
       "        vertical-align: top;\n",
       "    }\n",
       "\n",
       "    .dataframe thead th {\n",
       "        text-align: right;\n",
       "    }\n",
       "</style>\n",
       "<table border=\"1\" class=\"dataframe\">\n",
       "  <thead>\n",
       "    <tr style=\"text-align: right;\">\n",
       "      <th></th>\n",
       "      <th>Presion_GPa</th>\n",
       "    </tr>\n",
       "  </thead>\n",
       "  <tbody>\n",
       "    <tr>\n",
       "      <th>0</th>\n",
       "      <td>0</td>\n",
       "    </tr>\n",
       "    <tr>\n",
       "      <th>1</th>\n",
       "      <td>1</td>\n",
       "    </tr>\n",
       "    <tr>\n",
       "      <th>2</th>\n",
       "      <td>2</td>\n",
       "    </tr>\n",
       "    <tr>\n",
       "      <th>3</th>\n",
       "      <td>3</td>\n",
       "    </tr>\n",
       "    <tr>\n",
       "      <th>4</th>\n",
       "      <td>4</td>\n",
       "    </tr>\n",
       "    <tr>\n",
       "      <th>...</th>\n",
       "      <td>...</td>\n",
       "    </tr>\n",
       "    <tr>\n",
       "      <th>146</th>\n",
       "      <td>146</td>\n",
       "    </tr>\n",
       "    <tr>\n",
       "      <th>147</th>\n",
       "      <td>147</td>\n",
       "    </tr>\n",
       "    <tr>\n",
       "      <th>148</th>\n",
       "      <td>148</td>\n",
       "    </tr>\n",
       "    <tr>\n",
       "      <th>149</th>\n",
       "      <td>149</td>\n",
       "    </tr>\n",
       "    <tr>\n",
       "      <th>150</th>\n",
       "      <td>150</td>\n",
       "    </tr>\n",
       "  </tbody>\n",
       "</table>\n",
       "<p>151 rows × 1 columns</p>\n",
       "</div>"
      ],
      "text/plain": [
       "     Presion_GPa\n",
       "0              0\n",
       "1              1\n",
       "2              2\n",
       "3              3\n",
       "4              4\n",
       "..           ...\n",
       "146          146\n",
       "147          147\n",
       "148          148\n",
       "149          149\n",
       "150          150\n",
       "\n",
       "[151 rows x 1 columns]"
      ]
     },
     "execution_count": 66,
     "metadata": {},
     "output_type": "execute_result"
    }
   ],
   "source": [
    "df = pd.DataFrame()\n",
    "df['Presion_GPa'] = np.arange(0,151)\n",
    "df"
   ]
  },
  {
   "cell_type": "code",
   "execution_count": 67,
   "metadata": {},
   "outputs": [],
   "source": [
    "presion_valores = df['Presion_GPa'].to_list()\n",
    "\n",
    "volumenes = list()\n",
    "\n",
    "for presion_valor in presion_valores:\n",
    "    def Presion(V):\n",
    "        return (3/2) * B0 * (((V0 / V)**(7/3)) - ((V0 / V)**(5/3))) * (1 + (3/4) * (B0_prima - 4) * (((V0 / V)**(7/3)) - 1)) - presion_valor\n",
    "    \n",
    "    volumenes.append(round(optimize.fsolve(Presion,1)[0],5))"
   ]
  },
  {
   "cell_type": "code",
   "execution_count": 68,
   "metadata": {},
   "outputs": [],
   "source": [
    "df['Volumenes'] = volumenes\n",
    "df['c_a'] = df['Volumenes'].apply(lambda x: round(c_a(x),5))"
   ]
  },
  {
   "cell_type": "code",
   "execution_count": 69,
   "metadata": {},
   "outputs": [
    {
     "data": {
      "text/html": [
       "<div>\n",
       "<style scoped>\n",
       "    .dataframe tbody tr th:only-of-type {\n",
       "        vertical-align: middle;\n",
       "    }\n",
       "\n",
       "    .dataframe tbody tr th {\n",
       "        vertical-align: top;\n",
       "    }\n",
       "\n",
       "    .dataframe thead th {\n",
       "        text-align: right;\n",
       "    }\n",
       "</style>\n",
       "<table border=\"1\" class=\"dataframe\">\n",
       "  <thead>\n",
       "    <tr style=\"text-align: right;\">\n",
       "      <th></th>\n",
       "      <th>Presion_GPa</th>\n",
       "      <th>Volumenes</th>\n",
       "      <th>c_a</th>\n",
       "    </tr>\n",
       "  </thead>\n",
       "  <tbody>\n",
       "    <tr>\n",
       "      <th>0</th>\n",
       "      <td>0</td>\n",
       "      <td>177.91000</td>\n",
       "      <td>1.10154</td>\n",
       "    </tr>\n",
       "    <tr>\n",
       "      <th>1</th>\n",
       "      <td>1</td>\n",
       "      <td>177.32187</td>\n",
       "      <td>1.10095</td>\n",
       "    </tr>\n",
       "    <tr>\n",
       "      <th>2</th>\n",
       "      <td>2</td>\n",
       "      <td>176.74411</td>\n",
       "      <td>1.10036</td>\n",
       "    </tr>\n",
       "    <tr>\n",
       "      <th>3</th>\n",
       "      <td>3</td>\n",
       "      <td>176.17637</td>\n",
       "      <td>1.09980</td>\n",
       "    </tr>\n",
       "    <tr>\n",
       "      <th>4</th>\n",
       "      <td>4</td>\n",
       "      <td>175.61831</td>\n",
       "      <td>1.09924</td>\n",
       "    </tr>\n",
       "    <tr>\n",
       "      <th>...</th>\n",
       "      <td>...</td>\n",
       "      <td>...</td>\n",
       "      <td>...</td>\n",
       "    </tr>\n",
       "    <tr>\n",
       "      <th>146</th>\n",
       "      <td>146</td>\n",
       "      <td>136.42665</td>\n",
       "      <td>1.06706</td>\n",
       "    </tr>\n",
       "    <tr>\n",
       "      <th>147</th>\n",
       "      <td>147</td>\n",
       "      <td>136.27485</td>\n",
       "      <td>1.06696</td>\n",
       "    </tr>\n",
       "    <tr>\n",
       "      <th>148</th>\n",
       "      <td>148</td>\n",
       "      <td>136.12388</td>\n",
       "      <td>1.06687</td>\n",
       "    </tr>\n",
       "    <tr>\n",
       "      <th>149</th>\n",
       "      <td>149</td>\n",
       "      <td>135.97373</td>\n",
       "      <td>1.06677</td>\n",
       "    </tr>\n",
       "    <tr>\n",
       "      <th>150</th>\n",
       "      <td>150</td>\n",
       "      <td>135.82440</td>\n",
       "      <td>1.06667</td>\n",
       "    </tr>\n",
       "  </tbody>\n",
       "</table>\n",
       "<p>151 rows × 3 columns</p>\n",
       "</div>"
      ],
      "text/plain": [
       "     Presion_GPa  Volumenes      c_a\n",
       "0              0  177.91000  1.10154\n",
       "1              1  177.32187  1.10095\n",
       "2              2  176.74411  1.10036\n",
       "3              3  176.17637  1.09980\n",
       "4              4  175.61831  1.09924\n",
       "..           ...        ...      ...\n",
       "146          146  136.42665  1.06706\n",
       "147          147  136.27485  1.06696\n",
       "148          148  136.12388  1.06687\n",
       "149          149  135.97373  1.06677\n",
       "150          150  135.82440  1.06667\n",
       "\n",
       "[151 rows x 3 columns]"
      ]
     },
     "execution_count": 69,
     "metadata": {},
     "output_type": "execute_result"
    }
   ],
   "source": [
    "df"
   ]
  },
  {
   "cell_type": "markdown",
   "metadata": {},
   "source": [
    "## Exportando csv"
   ]
  },
  {
   "cell_type": "code",
   "execution_count": 70,
   "metadata": {},
   "outputs": [],
   "source": [
    "df.to_csv('../data/processed/presion-Volumen-c_a-0-150-GPa.csv',index=False)"
   ]
  }
 ],
 "metadata": {
  "interpreter": {
   "hash": "9449b7975baa3b75bf9f8850799a9b45986a27edda55fbf504f3b36b29cce414"
  },
  "kernelspec": {
   "display_name": "Python 3.9.12 ('MoB2')",
   "language": "python",
   "name": "python3"
  },
  "language_info": {
   "codemirror_mode": {
    "name": "ipython",
    "version": 3
   },
   "file_extension": ".py",
   "mimetype": "text/x-python",
   "name": "python",
   "nbconvert_exporter": "python",
   "pygments_lexer": "ipython3",
   "version": "3.9.12"
  },
  "orig_nbformat": 4
 },
 "nbformat": 4,
 "nbformat_minor": 2
}
