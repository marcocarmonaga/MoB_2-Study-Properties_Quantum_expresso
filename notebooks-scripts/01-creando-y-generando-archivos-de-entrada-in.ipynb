{
 "cells": [
  {
   "cell_type": "markdown",
   "metadata": {},
   "source": [
    "# Creando y generando archivos de entrada .in para Quantum Expresso"
   ]
  },
  {
   "cell_type": "markdown",
   "metadata": {},
   "source": [
    "## Importando liberías a utilizar"
   ]
  },
  {
   "cell_type": "code",
   "execution_count": 1,
   "metadata": {},
   "outputs": [],
   "source": [
    "import os\n",
    "import numpy as np"
   ]
  },
  {
   "cell_type": "markdown",
   "metadata": {},
   "source": [
    "## Definiendo volúmenes a utilizar $V$  $(\\mathring{A}^3)$"
   ]
  },
  {
   "cell_type": "code",
   "execution_count": 2,
   "metadata": {},
   "outputs": [],
   "source": [
    "volumenes = [159.30, 162.84, 166.38, 169.92, 173.46, 177.00, 180.54, 184.08, 187.62, 191.16, 194.70]"
   ]
  },
  {
   "cell_type": "markdown",
   "metadata": {},
   "source": [
    "## Definiendo cocientes entre lattice parámetros $(c/a)$"
   ]
  },
  {
   "cell_type": "code",
   "execution_count": 3,
   "metadata": {},
   "outputs": [],
   "source": [
    "c_a_coeficientes = [0.986, 1.008, 1.030, 1.052, 1.074, 1.096, 1.118, 1.140, 1.162, 1.183, 1.206]"
   ]
  },
  {
   "cell_type": "markdown",
   "metadata": {},
   "source": [
    "## Definiendo función para obtener el valor del lattice parametro $a$ a partir de la siguiente ecuación\n",
    "\n",
    "$$\n",
    "V = \\frac{\\sqrt{3}}{2}a^3(c/a)\\quad \\Rightarrow \\quad a= \\sqrt[3]{\\frac{2V}{\\sqrt{3}\\cdot(c/a)}}\n",
    "$$\n",
    "\n",
    "Considerando que conocemos el valor de $V$ y $c/a$."
   ]
  },
  {
   "cell_type": "code",
   "execution_count": 4,
   "metadata": {},
   "outputs": [],
   "source": [
    "def a(V:float,c_a:float) -> float:\n",
    "    return round(np.cbrt((2 * V) / (np.sqrt(3) * c_a)),5)"
   ]
  },
  {
   "cell_type": "markdown",
   "metadata": {},
   "source": [
    "### Obteniendo valores de $a$ por cada volumen y por cada valor de $c/a$ y añadiendolos a una nueva lista con entradas $(V,c/a,a)$."
   ]
  },
  {
   "cell_type": "code",
   "execution_count": 5,
   "metadata": {},
   "outputs": [
    {
     "data": {
      "text/plain": [
       "[[159.3, 0.986, 5.71395],\n",
       " [159.3, 1.008, 5.67207],\n",
       " [159.3, 1.03, 5.63139],\n",
       " [159.3, 1.052, 5.59186],\n",
       " [159.3, 1.074, 5.55342],\n",
       " [159.3, 1.096, 5.51601],\n",
       " [159.3, 1.118, 5.47959],\n",
       " [159.3, 1.14, 5.44411],\n",
       " [159.3, 1.162, 5.40953],\n",
       " [159.3, 1.183, 5.37733],\n",
       " [159.3, 1.206, 5.34293],\n",
       " [162.84, 0.986, 5.75596],\n",
       " [162.84, 1.008, 5.71378],\n",
       " [162.84, 1.03, 5.6728],\n",
       " [162.84, 1.052, 5.63298],\n",
       " [162.84, 1.074, 5.59425],\n",
       " [162.84, 1.096, 5.55657],\n",
       " [162.84, 1.118, 5.51988],\n",
       " [162.84, 1.14, 5.48414],\n",
       " [162.84, 1.162, 5.44931],\n",
       " [162.84, 1.183, 5.41687],\n",
       " [162.84, 1.206, 5.38222],\n",
       " [166.38, 0.986, 5.79737],\n",
       " [166.38, 1.008, 5.75489],\n",
       " [166.38, 1.03, 5.71362],\n",
       " [166.38, 1.052, 5.67351],\n",
       " [166.38, 1.074, 5.6345],\n",
       " [166.38, 1.096, 5.59654],\n",
       " [166.38, 1.118, 5.55959],\n",
       " [166.38, 1.14, 5.5236],\n",
       " [166.38, 1.162, 5.48851],\n",
       " [166.38, 1.183, 5.45584],\n",
       " [166.38, 1.206, 5.42094],\n",
       " [169.92, 0.986, 5.8382],\n",
       " [169.92, 1.008, 5.79541],\n",
       " [169.92, 1.03, 5.75385],\n",
       " [169.92, 1.052, 5.71346],\n",
       " [169.92, 1.074, 5.67418],\n",
       " [169.92, 1.096, 5.63596],\n",
       " [169.92, 1.118, 5.59875],\n",
       " [169.92, 1.14, 5.5625],\n",
       " [169.92, 1.162, 5.52717],\n",
       " [169.92, 1.183, 5.49427],\n",
       " [169.92, 1.206, 5.45911],\n",
       " [173.46, 0.986, 5.87846],\n",
       " [173.46, 1.008, 5.83538],\n",
       " [173.46, 1.03, 5.79354],\n",
       " [173.46, 1.052, 5.75287],\n",
       " [173.46, 1.074, 5.71331],\n",
       " [173.46, 1.096, 5.67483],\n",
       " [173.46, 1.118, 5.63736],\n",
       " [173.46, 1.14, 5.60086],\n",
       " [173.46, 1.162, 5.56529],\n",
       " [173.46, 1.183, 5.53216],\n",
       " [173.46, 1.206, 5.49676],\n",
       " [177.0, 0.986, 5.91819],\n",
       " [177.0, 1.008, 5.87481],\n",
       " [177.0, 1.03, 5.83268],\n",
       " [177.0, 1.052, 5.79174],\n",
       " [177.0, 1.074, 5.75192],\n",
       " [177.0, 1.096, 5.71317],\n",
       " [177.0, 1.118, 5.67545],\n",
       " [177.0, 1.14, 5.6387],\n",
       " [177.0, 1.162, 5.60289],\n",
       " [177.0, 1.183, 5.56954],\n",
       " [177.0, 1.206, 5.53391],\n",
       " [180.54, 0.986, 5.95738],\n",
       " [180.54, 1.008, 5.91372],\n",
       " [180.54, 1.03, 5.87131],\n",
       " [180.54, 1.052, 5.8301],\n",
       " [180.54, 1.074, 5.79001],\n",
       " [180.54, 1.096, 5.75101],\n",
       " [180.54, 1.118, 5.71304],\n",
       " [180.54, 1.14, 5.67605],\n",
       " [180.54, 1.162, 5.64],\n",
       " [180.54, 1.183, 5.60643],\n",
       " [180.54, 1.206, 5.57056],\n",
       " [184.08, 0.986, 5.99607],\n",
       " [184.08, 1.008, 5.95212],\n",
       " [184.08, 1.03, 5.90944],\n",
       " [184.08, 1.052, 5.86795],\n",
       " [184.08, 1.074, 5.82761],\n",
       " [184.08, 1.096, 5.78835],\n",
       " [184.08, 1.118, 5.75014],\n",
       " [184.08, 1.14, 5.71291],\n",
       " [184.08, 1.162, 5.67662],\n",
       " [184.08, 1.183, 5.64283],\n",
       " [184.08, 1.206, 5.60673],\n",
       " [187.62, 0.986, 6.03426],\n",
       " [187.62, 1.008, 5.99003],\n",
       " [187.62, 1.03, 5.94708],\n",
       " [187.62, 1.052, 5.90533],\n",
       " [187.62, 1.074, 5.86473],\n",
       " [187.62, 1.096, 5.82522],\n",
       " [187.62, 1.118, 5.78676],\n",
       " [187.62, 1.14, 5.74929],\n",
       " [187.62, 1.162, 5.71278],\n",
       " [187.62, 1.183, 5.67877],\n",
       " [187.62, 1.206, 5.64244],\n",
       " [191.16, 0.986, 6.07197],\n",
       " [191.16, 1.008, 6.02747],\n",
       " [191.16, 1.03, 5.98425],\n",
       " [191.16, 1.052, 5.94224],\n",
       " [191.16, 1.074, 5.90139],\n",
       " [191.16, 1.096, 5.86163],\n",
       " [191.16, 1.118, 5.82293],\n",
       " [191.16, 1.14, 5.78523],\n",
       " [191.16, 1.162, 5.74849],\n",
       " [191.16, 1.183, 5.71427],\n",
       " [191.16, 1.206, 5.67771],\n",
       " [194.7, 0.986, 6.10923],\n",
       " [194.7, 1.008, 6.06445],\n",
       " [194.7, 1.03, 6.02096],\n",
       " [194.7, 1.052, 5.9787],\n",
       " [194.7, 1.074, 5.93759],\n",
       " [194.7, 1.096, 5.89759],\n",
       " [194.7, 1.118, 5.85865],\n",
       " [194.7, 1.14, 5.82072],\n",
       " [194.7, 1.162, 5.78375],\n",
       " [194.7, 1.183, 5.74932],\n",
       " [194.7, 1.206, 5.71254]]"
      ]
     },
     "execution_count": 5,
     "metadata": {},
     "output_type": "execute_result"
    }
   ],
   "source": [
    "V_c_a_a_s = list()\n",
    "\n",
    "for volumen in volumenes:\n",
    "    for c_a_coeficiente in c_a_coeficientes:\n",
    "        V_c_a_a_s.append([volumen,c_a_coeficiente,a(volumen,c_a_coeficiente)])\n",
    "\n",
    "V_c_a_a_s"
   ]
  },
  {
   "cell_type": "markdown",
   "metadata": {},
   "source": [
    "## Imprimiendo nuestro texto modelo para crear archivos .in"
   ]
  },
  {
   "cell_type": "markdown",
   "metadata": {},
   "source": [
    "### Cambiando de directorio donde se encuentra nuestro archivo mob2_pw.in, el cual nos servira como modelo para la creación de todos los demás."
   ]
  },
  {
   "cell_type": "code",
   "execution_count": 6,
   "metadata": {},
   "outputs": [
    {
     "data": {
      "text/plain": [
       "['mob2_pw.in']"
      ]
     },
     "execution_count": 6,
     "metadata": {},
     "output_type": "execute_result"
    }
   ],
   "source": [
    "raw_path = '../data/raw'\n",
    "raw_dir = os.chdir(raw_path)\n",
    "raw_files = os.listdir(raw_dir)\n",
    "raw_files"
   ]
  },
  {
   "cell_type": "markdown",
   "metadata": {},
   "source": [
    "### Imprimiendo en pantalla el texto que contiene."
   ]
  },
  {
   "cell_type": "code",
   "execution_count": 7,
   "metadata": {},
   "outputs": [
    {
     "name": "stdout",
     "output_type": "stream",
     "text": [
      " &CONTROL\n",
      "    prefix='mob2',\n",
      "    pseudo_dir='$pot',\n",
      "    outdir='./tmp',\n",
      " /\n",
      " &SYSTEM\n",
      "    ibrav =  4,\n",
      "    celldm(1) = 5.72774153\n",
      "    celldm(3) = 1.09552365\n",
      "    nat =  3,\n",
      "    ntyp = 2,\n",
      "    nbnd = 20,\n",
      "    ecutwfc = 36.0,\n",
      "    occupations = 'smearing',\n",
      "    smearing = 'gauss',\n",
      "    degauss = 0.015,\n",
      " /\n",
      " &ELECTRONS\n",
      " /\n",
      "ATOMIC_SPECIES\n",
      "   Mo  95.95  Mo_ONCV_PBE-1.2.upf\n",
      "   B   10.81  B_ONCV_PBE-1.2.upf\n",
      "ATOMIC_POSITIONS {crystal}\n",
      "   Mo 0.00 0.00 0.00\n",
      "   B 0.666666667  0.333333333  0.5\n",
      "   B 0.333333333  0.666666667  0.5\n",
      "K_POINTS automatic\n",
      "   18 18 18   0 0 1 \n",
      "\n"
     ]
    }
   ],
   "source": [
    "pw_file = open(raw_files[0],'r')\n",
    "pw_read = pw_file.read()\n",
    "print(pw_read)"
   ]
  },
  {
   "cell_type": "code",
   "execution_count": 8,
   "metadata": {},
   "outputs": [],
   "source": [
    "# Cerrando archivo anterior\n",
    "pw_file.close()"
   ]
  },
  {
   "cell_type": "markdown",
   "metadata": {},
   "source": [
    "### Regresando al directorio actual"
   ]
  },
  {
   "cell_type": "code",
   "execution_count": 9,
   "metadata": {},
   "outputs": [],
   "source": [
    "actual_dir = '../../notebooks'\n",
    "os.chdir(actual_dir)"
   ]
  },
  {
   "cell_type": "markdown",
   "metadata": {},
   "source": [
    "## Creando sistema de directorios en interim y archivos pw.in"
   ]
  },
  {
   "cell_type": "markdown",
   "metadata": {},
   "source": [
    "### Diseño en forma de árbol"
   ]
  },
  {
   "cell_type": "markdown",
   "metadata": {},
   "source": [
    "A manera de ejemplo, el sistema de archivos quedaría dado de la siguiente manera para cada uno de los volumenes.\n",
    "\n",
    "```bash\n",
    "../data/\n",
    "├── .interim\n",
    "    └── .159_30\n",
    "        └── .0_986\n",
    "            └── .temp\n",
    "        └── .1_008\n",
    "        └── .1_030\n",
    "        └── .1_052\n",
    "        └── .1_074\n",
    "        └── .1_096\n",
    "        └── .1_118\n",
    "        └── .1_140\n",
    "        └── .1_162\n",
    "        └── .1_183\n",
    "        └── .1_206\n",
    "```"
   ]
  },
  {
   "cell_type": "markdown",
   "metadata": {},
   "source": [
    "## Creando archivos archivo pw.in"
   ]
  },
  {
   "cell_type": "code",
   "execution_count": 10,
   "metadata": {},
   "outputs": [],
   "source": [
    "def creating_mob2_file(V_c_a_a_1,V_c_a_a_2):\n",
    "    crystal = r'{crystal}'\n",
    "    mob2_pw_file  = f''' &CONTROL\n",
    "    prefix='mob2',\n",
    "    pseudo_dir='/home/marcocarmonaga/Apps/qe-7.0/pseudo',\n",
    "    outdir='./tmp',\n",
    " /\n",
    " &SYSTEM\n",
    "    ibrav =  4,\n",
    "    celldm(1) = {V_c_a_a_2}\n",
    "    celldm(3) = {V_c_a_a_1}\n",
    "    nat =  3,\n",
    "    ntyp = 2,\n",
    "    nbnd = 20,\n",
    "    ecutwfc = 36.0,\n",
    "    occupations = 'smearing',\n",
    "    smearing = 'gauss',\n",
    "    degauss = 0.015,\n",
    " /\n",
    " &ELECTRONS\n",
    " /\n",
    "ATOMIC_SPECIES\n",
    "   Mo  95.95  Mo_ONCV_PBE-1.2.upf\n",
    "   B   10.81  B_ONCV_PBE-1.2.upf\n",
    "ATOMIC_POSITIONS {crystal}\n",
    "   Mo 0.00 0.00 0.00\n",
    "   B 0.666666667  0.333333333  0.5\n",
    "   B 0.333333333  0.666666667  0.5\n",
    "K_POINTS automatic\n",
    "   18 18 18   0 0 1\n",
    "'''\n",
    "    return mob2_pw_file"
   ]
  },
  {
   "cell_type": "code",
   "execution_count": 11,
   "metadata": {},
   "outputs": [],
   "source": [
    "mob2_pw_files = list()\n",
    "\n",
    "for V_c_a_a in V_c_a_a_s:\n",
    "   mob2_pw_files.append(creating_mob2_file(V_c_a_a_1=V_c_a_a[1],V_c_a_a_2=V_c_a_a[2]))"
   ]
  },
  {
   "cell_type": "markdown",
   "metadata": {},
   "source": [
    "### Uniendo valores $(V,c/a,a,\\text{mob2-pw-file})$"
   ]
  },
  {
   "cell_type": "code",
   "execution_count": 12,
   "metadata": {},
   "outputs": [],
   "source": [
    "for V_c_a_a in V_c_a_a_s:\n",
    "    V_c_a_a.append(mob2_pw_files[V_c_a_a_s.index(V_c_a_a)])"
   ]
  },
  {
   "cell_type": "code",
   "execution_count": 13,
   "metadata": {},
   "outputs": [],
   "source": [
    "V_c_a_a_mob2_file_s = V_c_a_a_s.copy()"
   ]
  },
  {
   "cell_type": "markdown",
   "metadata": {},
   "source": [
    "### Creando directorios completos"
   ]
  },
  {
   "cell_type": "code",
   "execution_count": 14,
   "metadata": {},
   "outputs": [],
   "source": [
    "os.chdir('../data/interim')\n",
    "for V_c_a_a_mob2_file in V_c_a_a_mob2_file_s:\n",
    "    directorio_primario = str(V_c_a_a_mob2_file[0]).replace('.','_')\n",
    "    directorio_secundario = str(V_c_a_a_mob2_file[1]).replace('.','_')\n",
    "    try:\n",
    "        os.mkdir(directorio_primario)\n",
    "        os.chdir(directorio_primario)\n",
    "        os.mkdir(directorio_secundario)\n",
    "        os.chdir(directorio_secundario)\n",
    "        os.mkdir('tmp')\n",
    "        with open('mob2_pw.in','w') as pw_file:\n",
    "            pw_file.writelines(V_c_a_a_mob2_file[3])\n",
    "            pw_file.close()\n",
    "        os.chdir('../../')\n",
    "    except:\n",
    "        os.chdir(directorio_primario)\n",
    "        os.mkdir(directorio_secundario)\n",
    "        os.chdir(directorio_secundario)\n",
    "        os.mkdir('tmp')\n",
    "        with open('mob2_pw.in','w') as pw_file:\n",
    "            pw_file.writelines(V_c_a_a_mob2_file[3])\n",
    "            pw_file.close()\n",
    "        os.chdir('../../')\n",
    "os.chdir('../../notebooks')"
   ]
  }
 ],
 "metadata": {
  "interpreter": {
   "hash": "9449b7975baa3b75bf9f8850799a9b45986a27edda55fbf504f3b36b29cce414"
  },
  "kernelspec": {
   "display_name": "Python 3.9.12 ('MoB2')",
   "language": "python",
   "name": "python3"
  },
  "language_info": {
   "codemirror_mode": {
    "name": "ipython",
    "version": 3
   },
   "file_extension": ".py",
   "mimetype": "text/x-python",
   "name": "python",
   "nbconvert_exporter": "python",
   "pygments_lexer": "ipython3",
   "version": "3.9.12"
  },
  "orig_nbformat": 4
 },
 "nbformat": 4,
 "nbformat_minor": 2
}
