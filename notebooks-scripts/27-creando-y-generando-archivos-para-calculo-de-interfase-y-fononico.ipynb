{
 "cells": [
  {
   "cell_type": "markdown",
   "metadata": {},
   "source": [
    "# Creando y generando archivos de entrada para obtener la densidad de carga del estado base"
   ]
  },
  {
   "cell_type": "markdown",
   "metadata": {},
   "source": [
    "## Importando liberías a utilizar"
   ]
  },
  {
   "cell_type": "code",
   "execution_count": 15,
   "metadata": {},
   "outputs": [],
   "source": [
    "import os"
   ]
  },
  {
   "cell_type": "markdown",
   "metadata": {},
   "source": [
    "## Definiendo directorio principal"
   ]
  },
  {
   "cell_type": "code",
   "execution_count": 16,
   "metadata": {},
   "outputs": [],
   "source": [
    "directorio_principal = '/home/marcocarmonaga/Documents/MoB_2-Study-Properties_Quantum_expresso/notebooks-scripts'\n",
    "os.chdir(directorio_principal)"
   ]
  },
  {
   "cell_type": "markdown",
   "metadata": {},
   "source": [
    "## Cambiando a carpeta sobre la que se trabajará (directorio secundario)"
   ]
  },
  {
   "cell_type": "code",
   "execution_count": 17,
   "metadata": {},
   "outputs": [],
   "source": [
    "scf_path = '../data/processed/calculo-de-interfase-y-fonones'\n",
    "os.chdir(scf_path)"
   ]
  },
  {
   "cell_type": "markdown",
   "metadata": {},
   "source": [
    "# Defininiendo valores de ecutwfc y fonones"
   ]
  },
  {
   "cell_type": "code",
   "execution_count": 18,
   "metadata": {},
   "outputs": [],
   "source": [
    "ecutwfcs = [36.0, 40.0, 44.0, 48.0, 52.0]\n",
    "fonones = ['01', '02', '03', '04', '05', '06']"
   ]
  },
  {
   "cell_type": "markdown",
   "metadata": {},
   "source": [
    "# Definiendo función para generar archivos .in"
   ]
  },
  {
   "cell_type": "code",
   "execution_count": 19,
   "metadata": {},
   "outputs": [],
   "source": [
    "def gen_file_interfase(ecutwfc:str):\n",
    "   crystal = r'{crystal}'\n",
    "   file_gen = f''' &CONTROL\n",
    "    calculation='scf',\n",
    "    prefix='mob2',\n",
    "    pseudo_dir='/home/marcocarmonaga/Apps/qe-7.0/pseudo',\n",
    "    outdir='./tmp',\n",
    "    wf_collect=.true.,\n",
    " /\n",
    " &SYSTEM\n",
    "    ibrav =  4,\n",
    "    celldm(1) = 5.71334,\n",
    "    celldm(3) = 1.10154,\n",
    "    nat =  3,\n",
    "    ntyp = 2,\n",
    "    nbnd = 20,\n",
    "    ecutwfc = {ecutwfc},\n",
    "    ecutrho = {ecutwfc * 14},\n",
    "    occupations = 'smearing',\n",
    "    smearing = 'gauss',\n",
    "    degauss = 0.015,\n",
    " /\n",
    " &ELECTRONS\n",
    "    diagonalization = 'davidson'\n",
    "    mixing_mode = 'plain',\n",
    "    conv_thr =  1.0d-8\n",
    "    mixing_beta = 0.7 \n",
    " /\n",
    "ATOMIC_SPECIES\n",
    "   Mo  92.906  Mo_ONCV_PBE-1.2.upf\n",
    "   B   10.81   B_ONCV_PBE-1.2.upf\n",
    "ATOMIC_POSITIONS {crystal}\n",
    "   Mo 0.00 0.00 0.00\n",
    "   B .6666666666666666  .3333333333333333  0.5\n",
    "   B .3333333333333333  .6666666666666666  0.5\n",
    "K_POINTS automatic\n",
    "   18 18 18   0 0 1'''\n",
    "   return file_gen"
   ]
  },
  {
   "cell_type": "code",
   "execution_count": 20,
   "metadata": {},
   "outputs": [],
   "source": [
    "def gen_file_fonones(fonon:str):\n",
    "   file_gen = f'''Phonon calc for qp{fonon}\n",
    " &INPUTPH\n",
    "    prefix='mob2',\n",
    "    tr2_ph=1.0d-14,\n",
    "    outdir='./tmp',\n",
    "    low_directory_check=.true.,\n",
    "    amass(1)=95.94,\n",
    "    reduce_io=.true.,\n",
    "    ldisp=.true.,\n",
    "!    lqdir=.true.,\n",
    "    nq1=3,\n",
    "    nq2=3,\n",
    "    nq3=3,\n",
    "    start_q={fonon}, last_q={fonon},\n",
    "    fildyn=\"x000.dyn\",\n",
    " /'''\n",
    "   return file_gen"
   ]
  },
  {
   "cell_type": "code",
   "execution_count": 21,
   "metadata": {},
   "outputs": [],
   "source": [
    "for ecutwfc in ecutwfcs:\n",
    "        name_file = str(ecutwfc).replace('.','_')\n",
    "        os.mkdir(name_file)\n",
    "        os.chdir(name_file)\n",
    "        with open('mob2_interfase.in','w') as file:\n",
    "                file.writelines(gen_file_interfase(ecutwfc))\n",
    "        for fonon in fonones:\n",
    "                with open(f'mob2_fonon_{fonon}.in','w') as file:\n",
    "                        file.writelines(gen_file_fonones(fonon))\n",
    "        os.mkdir('tmp')\n",
    "        os.chdir('../')"
   ]
  }
 ],
 "metadata": {
  "interpreter": {
   "hash": "fdf66a215bd48bb92777750260a595cfd172a1c765e69009bf5c1f5244c3b3bc"
  },
  "kernelspec": {
   "display_name": "Python 3.10.4 ('sinecta')",
   "language": "python",
   "name": "python3"
  },
  "language_info": {
   "codemirror_mode": {
    "name": "ipython",
    "version": 3
   },
   "file_extension": ".py",
   "mimetype": "text/x-python",
   "name": "python",
   "nbconvert_exporter": "python",
   "pygments_lexer": "ipython3",
   "version": "3.10.4"
  },
  "orig_nbformat": 4
 },
 "nbformat": 4,
 "nbformat_minor": 2
}
