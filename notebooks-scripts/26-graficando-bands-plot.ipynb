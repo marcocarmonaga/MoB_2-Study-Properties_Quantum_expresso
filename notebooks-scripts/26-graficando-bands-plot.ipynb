{
 "cells": [
  {
   "cell_type": "markdown",
   "metadata": {},
   "source": [
    "# Graficando valores de $c/a$ vs Energía Total por cada volumen dado"
   ]
  },
  {
   "cell_type": "code",
   "execution_count": 1,
   "metadata": {},
   "outputs": [],
   "source": [
    "import matplotlib.pyplot as plt\n",
    "import numpy as np\n",
    "import pandas as pd\n",
    "import os"
   ]
  },
  {
   "cell_type": "markdown",
   "metadata": {},
   "source": [
    "# Definiendo directorio principal"
   ]
  },
  {
   "cell_type": "code",
   "execution_count": 2,
   "metadata": {},
   "outputs": [],
   "source": [
    "directorio_principal = '/home/marcocarmonaga/Documents/MoB_2-Study-Properties_Quantum_expresso/notebooks-scripts'\n",
    "os.chdir(directorio_principal)"
   ]
  },
  {
   "cell_type": "markdown",
   "metadata": {},
   "source": [
    "# Cambiando a carpeta sobre la que se trabajará (directorio secundario)"
   ]
  },
  {
   "cell_type": "code",
   "execution_count": 3,
   "metadata": {},
   "outputs": [],
   "source": [
    "scf_directory = '../data/processed/scf'\n",
    "os.chdir(scf_directory)"
   ]
  },
  {
   "cell_type": "markdown",
   "metadata": {},
   "source": [
    "# Enlistando archivos dentro de la carpeta secundaria"
   ]
  },
  {
   "cell_type": "code",
   "execution_count": 4,
   "metadata": {},
   "outputs": [
    {
     "data": {
      "text/plain": [
       "['110', '0', '120', '90', '70', '80', '65', '130', '150', '140', '50', '100']"
      ]
     },
     "execution_count": 4,
     "metadata": {},
     "output_type": "execute_result"
    }
   ],
   "source": [
    "directories = os.listdir()\n",
    "directories"
   ]
  },
  {
   "cell_type": "markdown",
   "metadata": {},
   "source": [
    "# Generando función para graficar"
   ]
  },
  {
   "cell_type": "code",
   "execution_count": 7,
   "metadata": {},
   "outputs": [],
   "source": [
    "def bands_plot(directorio:str):\n",
    "    os.chdir(directorio)\n",
    "    # Leyendo archivos mob2_bands.bands.gnu y extrayendo valor de EFermi\n",
    "    dos_read = open('mob2_bands.bands.gnu','r')\n",
    "    lines = dos_read.readlines()\n",
    "    \n",
    "    main_list = list()\n",
    "\n",
    "    for line in lines:\n",
    "        if line != ' \\n':\n",
    "            main_list.append(line)\n",
    "        else:\n",
    "            break\n",
    "    print(directorio, min(main_list),max(main_list))\n",
    "            \n",
    "\n",
    "    os.chdir('../')"
   ]
  },
  {
   "cell_type": "markdown",
   "metadata": {},
   "source": [
    "# Generando gráficas de densidad de estado para las diferentes presiones."
   ]
  },
  {
   "cell_type": "code",
   "execution_count": 8,
   "metadata": {},
   "outputs": [
    {
     "name": "stdout",
     "output_type": "stream",
     "text": [
      "110     0.0000  -37.4569\n",
      "     3.6215  -37.4132\n",
      "\n",
      "0     0.0000  -42.5979\n",
      "     3.6086  -42.5860\n",
      "\n",
      "120     0.0000  -37.1347\n",
      "     3.6220  -37.0880\n",
      "\n",
      "90     0.0000  -38.1473\n",
      "     3.6202  -38.1096\n",
      "\n",
      "70     0.0000  -38.9116\n",
      "     3.6187  -38.8799\n",
      "\n",
      "80     0.0000  -38.5191\n",
      "     3.6195  -38.4845\n",
      "\n",
      "65     0.0000  -39.1164\n",
      "     3.6182  -39.0862\n",
      "\n",
      "130     0.0000  -36.8262\n",
      "     3.6225  -36.7764\n",
      "\n",
      "150     0.0000  -36.2441\n",
      "     3.6234  -36.1880\n",
      "\n",
      "140     0.0000  -36.5300\n",
      "     3.6230  -36.4771\n",
      "\n",
      "50     0.0000  -39.7704\n",
      "     3.6167  -39.7447\n",
      "\n",
      "100     0.0000  -37.7938\n",
      "     3.6209  -37.7532\n",
      "\n"
     ]
    }
   ],
   "source": [
    "for directory in directories:\n",
    "    bands_plot(directory)"
   ]
  }
 ],
 "metadata": {
  "interpreter": {
   "hash": "2f36d0ac53152e2f247b40f4388b6e0181290ebe70b12cf12228c028f6dbe802"
  },
  "kernelspec": {
   "display_name": "Python 3.9.12 ('venv')",
   "language": "python",
   "name": "python3"
  },
  "language_info": {
   "codemirror_mode": {
    "name": "ipython",
    "version": 3
   },
   "file_extension": ".py",
   "mimetype": "text/x-python",
   "name": "python",
   "nbconvert_exporter": "python",
   "pygments_lexer": "ipython3",
   "version": "3.9.12"
  },
  "orig_nbformat": 4
 },
 "nbformat": 4,
 "nbformat_minor": 2
}
