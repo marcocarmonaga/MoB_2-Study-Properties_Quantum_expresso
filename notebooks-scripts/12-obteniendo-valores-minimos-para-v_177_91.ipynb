{
 "cells": [
  {
   "cell_type": "markdown",
   "metadata": {},
   "source": [
    "# Obteniendo valores minimos para $c/a$ con su respectivo valor de energía."
   ]
  },
  {
   "cell_type": "markdown",
   "metadata": {},
   "source": [
    "## Importando liberías a utilizar"
   ]
  },
  {
   "cell_type": "code",
   "execution_count": 1,
   "metadata": {},
   "outputs": [],
   "source": [
    "import os\n",
    "import pandas as pd\n",
    "import numpy as np\n",
    "import matplotlib.pyplot as plt"
   ]
  },
  {
   "cell_type": "markdown",
   "metadata": {},
   "source": [
    "## Definiendo directorio principal"
   ]
  },
  {
   "cell_type": "code",
   "execution_count": 2,
   "metadata": {},
   "outputs": [],
   "source": [
    "directorio_principal = '/home/marcocarmonaga/Documents/MoB_2-Study-Properties_Quantum_expresso/notebooks-scripts'\n",
    "os.chdir(directorio_principal)"
   ]
  },
  {
   "cell_type": "markdown",
   "metadata": {},
   "source": [
    "## Cambiando a carpeta sobre la que se trabajará (directorio secundario)"
   ]
  },
  {
   "cell_type": "code",
   "execution_count": 3,
   "metadata": {},
   "outputs": [],
   "source": [
    "energia_total_directory = '../data/processed/energia-total-por-volumen'\n",
    "os.chdir(energia_total_directory)"
   ]
  },
  {
   "cell_type": "markdown",
   "metadata": {},
   "source": [
    "## Enlistando archivos dentro de la carpeta secundaria"
   ]
  },
  {
   "cell_type": "code",
   "execution_count": 4,
   "metadata": {},
   "outputs": [
    {
     "data": {
      "text/plain": [
       "['187_62.csv',\n",
       " '173_46.csv',\n",
       " '180_54.csv',\n",
       " '177_91.csv',\n",
       " '191_16.csv',\n",
       " '159_3.csv',\n",
       " '166_38.csv',\n",
       " '177_0.csv',\n",
       " '194_7.csv',\n",
       " '169_92.csv',\n",
       " '162_84.csv',\n",
       " '184_08.csv']"
      ]
     },
     "execution_count": 4,
     "metadata": {},
     "output_type": "execute_result"
    }
   ],
   "source": [
    "files = os.listdir()\n",
    "files"
   ]
  },
  {
   "cell_type": "markdown",
   "metadata": {},
   "source": [
    "## Ajustando puntos de Energía Total a polinomio de 4to grado, derivando y obteniendo valores mínimos"
   ]
  },
  {
   "cell_type": "code",
   "execution_count": 5,
   "metadata": {},
   "outputs": [],
   "source": [
    "valores_minimos = list()\n",
    "\n",
    "for file in files:\n",
    "    if file == '177_91.csv':\n",
    "        df = pd.read_csv(file)\n",
    "        c_a_valores = df['c_a_value'].to_list()\n",
    "        c_a = np.array(c_a_valores)\n",
    "        energia = df['Energy'].to_list()\n",
    "        energia_total = np.array(energia)\n",
    "        ajuste = np.polyfit(c_a,energia_total,deg=4)\n",
    "        p = np.poly1d(ajuste)\n",
    "        p_deriv = np.polyder(p)\n",
    "        roots = np.roots(p_deriv)\n",
    "        root = roots[0].real\n",
    "        c_a_min = root.round(5)\n",
    "        energia_min = p(root).round(5)\n",
    "        volumen_str = file.rpartition('.')\n",
    "        volumen = float(volumen_str[0].replace('_','.'))\n",
    "        valores_minimos.append([volumen,c_a_min,energia_min])"
   ]
  },
  {
   "cell_type": "code",
   "execution_count": 6,
   "metadata": {},
   "outputs": [
    {
     "data": {
      "text/html": [
       "<div>\n",
       "<style scoped>\n",
       "    .dataframe tbody tr th:only-of-type {\n",
       "        vertical-align: middle;\n",
       "    }\n",
       "\n",
       "    .dataframe tbody tr th {\n",
       "        vertical-align: top;\n",
       "    }\n",
       "\n",
       "    .dataframe thead th {\n",
       "        text-align: right;\n",
       "    }\n",
       "</style>\n",
       "<table border=\"1\" class=\"dataframe\">\n",
       "  <thead>\n",
       "    <tr style=\"text-align: right;\">\n",
       "      <th></th>\n",
       "      <th>Volumen</th>\n",
       "      <th>c_a_min</th>\n",
       "      <th>Energia_min</th>\n",
       "    </tr>\n",
       "  </thead>\n",
       "  <tbody>\n",
       "    <tr>\n",
       "      <th>0</th>\n",
       "      <td>177.91</td>\n",
       "      <td>1.10154</td>\n",
       "      <td>-148.56508</td>\n",
       "    </tr>\n",
       "  </tbody>\n",
       "</table>\n",
       "</div>"
      ],
      "text/plain": [
       "   Volumen  c_a_min  Energia_min\n",
       "0   177.91  1.10154   -148.56508"
      ]
     },
     "execution_count": 6,
     "metadata": {},
     "output_type": "execute_result"
    }
   ],
   "source": [
    "valores_minimos_df = pd.DataFrame(valores_minimos, columns=['Volumen','c_a_min','Energia_min'])\n",
    "valores_minimos_df"
   ]
  },
  {
   "cell_type": "markdown",
   "metadata": {},
   "source": [
    "## Concatenando valor a archivo `valores_minimos.csv`"
   ]
  },
  {
   "cell_type": "code",
   "execution_count": 7,
   "metadata": {},
   "outputs": [],
   "source": [
    "df_2 = pd.read_csv('../valores_minimos.csv')\n",
    "main_df = pd.concat([df_2,valores_minimos_df])\n",
    "main_df.sort_values(by='Volumen',inplace=True)"
   ]
  },
  {
   "cell_type": "markdown",
   "metadata": {},
   "source": [
    "## Exportando main_df a csv"
   ]
  },
  {
   "cell_type": "code",
   "execution_count": 8,
   "metadata": {},
   "outputs": [],
   "source": [
    "main_df.to_csv('../valores-minimos-uniendo-177_09.csv',index=False)"
   ]
  },
  {
   "cell_type": "markdown",
   "metadata": {},
   "source": [
    "## Regresando a directorio principal"
   ]
  },
  {
   "cell_type": "code",
   "execution_count": 9,
   "metadata": {},
   "outputs": [],
   "source": [
    "os.chdir(directorio_principal)"
   ]
  }
 ],
 "metadata": {
  "interpreter": {
   "hash": "9449b7975baa3b75bf9f8850799a9b45986a27edda55fbf504f3b36b29cce414"
  },
  "kernelspec": {
   "display_name": "Python 3.9.12 ('MoB2')",
   "language": "python",
   "name": "python3"
  },
  "language_info": {
   "codemirror_mode": {
    "name": "ipython",
    "version": 3
   },
   "file_extension": ".py",
   "mimetype": "text/x-python",
   "name": "python",
   "nbconvert_exporter": "python",
   "pygments_lexer": "ipython3",
   "version": "3.9.12"
  },
  "orig_nbformat": 4
 },
 "nbformat": 4,
 "nbformat_minor": 2
}
