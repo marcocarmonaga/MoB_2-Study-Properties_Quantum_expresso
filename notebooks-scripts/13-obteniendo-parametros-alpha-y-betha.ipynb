{
 "cells": [
  {
   "cell_type": "markdown",
   "metadata": {},
   "source": [
    "# Encontrando parámetros $\\alpha$ y $\\beta$ que se ajusten a la función\n",
    "\n",
    "$$\n",
    "(c/a)(V) = (c/a)(V_0) + \\alpha(1-V/V_0) + \\beta(1-V/V_0)^2,\n",
    "$$\n",
    "\n",
    "de los datos en la tabla `data/processed/vol_energia_presion.csv`."
   ]
  },
  {
   "cell_type": "markdown",
   "metadata": {},
   "source": [
    "## Importando liberías a utilizar"
   ]
  },
  {
   "cell_type": "code",
   "execution_count": 274,
   "metadata": {},
   "outputs": [],
   "source": [
    "import os\n",
    "import pandas as pd\n",
    "import numpy as np"
   ]
  },
  {
   "cell_type": "markdown",
   "metadata": {},
   "source": [
    "## Definiendo directorio principal"
   ]
  },
  {
   "cell_type": "code",
   "execution_count": 275,
   "metadata": {},
   "outputs": [],
   "source": [
    "directorio_principal = '/home/marcocarmonaga/Documents/MoB_2-Study-Properties_Quantum_expresso/notebooks-scripts'\n",
    "os.chdir(directorio_principal)"
   ]
  },
  {
   "cell_type": "markdown",
   "metadata": {},
   "source": [
    "## Cambiando a carpeta sobre la que se trabajará (directorio secundario)"
   ]
  },
  {
   "cell_type": "code",
   "execution_count": 276,
   "metadata": {},
   "outputs": [],
   "source": [
    "energia_total_directory = '../data/processed/'\n",
    "os.chdir(energia_total_directory)"
   ]
  },
  {
   "cell_type": "markdown",
   "metadata": {},
   "source": [
    "## Listando archivos"
   ]
  },
  {
   "cell_type": "code",
   "execution_count": 277,
   "metadata": {},
   "outputs": [
    {
     "data": {
      "text/plain": [
       "['volumen-presion.csv',\n",
       " 'valores_minimos.csv',\n",
       " 'energia-total-por-volumen',\n",
       " 'eos',\n",
       " 'valores-minimos-uniendo-177_09.csv']"
      ]
     },
     "execution_count": 277,
     "metadata": {},
     "output_type": "execute_result"
    }
   ],
   "source": [
    "files = os.listdir()\n",
    "files"
   ]
  },
  {
   "cell_type": "markdown",
   "metadata": {},
   "source": [
    "## Definiendo variables a utilizar"
   ]
  },
  {
   "cell_type": "code",
   "execution_count": 278,
   "metadata": {},
   "outputs": [],
   "source": [
    "# V_0\n",
    "V0 = 177.91\n",
    "\n",
    "# (c/a)(V0)\n",
    "c_a_V0 = 1.10154"
   ]
  },
  {
   "cell_type": "markdown",
   "metadata": {},
   "source": [
    "## Encontrando parámetros $\\alpha$ y $\\beta$\n",
    "\n",
    "La idea está en encontrar los parámetros $\\alpha$, $\\beta$; tales que se cumpla lo siguiente:\n",
    "\n",
    "$$\n",
    "\\begin{pmatrix}\n",
    "1-V_{i}/V_0 & (1-V_{i}/V_0)^2\\\\\n",
    "\\vdots & \\vdots\n",
    "\\end{pmatrix}\n",
    "\\begin{pmatrix}\n",
    "\\alpha \\\\\n",
    "\\beta\n",
    "\\end{pmatrix}=\n",
    "\\begin{pmatrix}\n",
    "(c/a)(V_{i}) - (c/a)(V_0)\\\\\n",
    "\\vdots\n",
    "\\end{pmatrix}\n",
    "$$"
   ]
  },
  {
   "cell_type": "markdown",
   "metadata": {},
   "source": [
    "### Obteniendo cada uno de los términos"
   ]
  },
  {
   "cell_type": "code",
   "execution_count": 279,
   "metadata": {},
   "outputs": [
    {
     "data": {
      "text/html": [
       "<div>\n",
       "<style scoped>\n",
       "    .dataframe tbody tr th:only-of-type {\n",
       "        vertical-align: middle;\n",
       "    }\n",
       "\n",
       "    .dataframe tbody tr th {\n",
       "        vertical-align: top;\n",
       "    }\n",
       "\n",
       "    .dataframe thead th {\n",
       "        text-align: right;\n",
       "    }\n",
       "</style>\n",
       "<table border=\"1\" class=\"dataframe\">\n",
       "  <thead>\n",
       "    <tr style=\"text-align: right;\">\n",
       "      <th></th>\n",
       "      <th>Volumen</th>\n",
       "      <th>c_a_min</th>\n",
       "      <th>termino_lineal</th>\n",
       "      <th>termino_cuadratico</th>\n",
       "      <th>diferencia</th>\n",
       "    </tr>\n",
       "  </thead>\n",
       "  <tbody>\n",
       "    <tr>\n",
       "      <th>0</th>\n",
       "      <td>159.30</td>\n",
       "      <td>1.08425</td>\n",
       "      <td>0.104603</td>\n",
       "      <td>0.010942</td>\n",
       "      <td>-0.01729</td>\n",
       "    </tr>\n",
       "    <tr>\n",
       "      <th>1</th>\n",
       "      <td>162.84</td>\n",
       "      <td>1.08725</td>\n",
       "      <td>0.084706</td>\n",
       "      <td>0.007175</td>\n",
       "      <td>-0.01429</td>\n",
       "    </tr>\n",
       "    <tr>\n",
       "      <th>2</th>\n",
       "      <td>166.38</td>\n",
       "      <td>1.09041</td>\n",
       "      <td>0.064808</td>\n",
       "      <td>0.004200</td>\n",
       "      <td>-0.01113</td>\n",
       "    </tr>\n",
       "    <tr>\n",
       "      <th>3</th>\n",
       "      <td>169.92</td>\n",
       "      <td>1.09371</td>\n",
       "      <td>0.044910</td>\n",
       "      <td>0.002017</td>\n",
       "      <td>-0.00783</td>\n",
       "    </tr>\n",
       "    <tr>\n",
       "      <th>4</th>\n",
       "      <td>173.46</td>\n",
       "      <td>1.09710</td>\n",
       "      <td>0.025013</td>\n",
       "      <td>0.000626</td>\n",
       "      <td>-0.00444</td>\n",
       "    </tr>\n",
       "    <tr>\n",
       "      <th>5</th>\n",
       "      <td>177.00</td>\n",
       "      <td>1.10063</td>\n",
       "      <td>0.005115</td>\n",
       "      <td>0.000026</td>\n",
       "      <td>-0.00091</td>\n",
       "    </tr>\n",
       "    <tr>\n",
       "      <th>6</th>\n",
       "      <td>177.91</td>\n",
       "      <td>1.10154</td>\n",
       "      <td>0.000000</td>\n",
       "      <td>0.000000</td>\n",
       "      <td>0.00000</td>\n",
       "    </tr>\n",
       "    <tr>\n",
       "      <th>7</th>\n",
       "      <td>180.54</td>\n",
       "      <td>1.10426</td>\n",
       "      <td>-0.014783</td>\n",
       "      <td>0.000219</td>\n",
       "      <td>0.00272</td>\n",
       "    </tr>\n",
       "    <tr>\n",
       "      <th>8</th>\n",
       "      <td>184.08</td>\n",
       "      <td>1.10797</td>\n",
       "      <td>-0.034680</td>\n",
       "      <td>0.001203</td>\n",
       "      <td>0.00643</td>\n",
       "    </tr>\n",
       "    <tr>\n",
       "      <th>9</th>\n",
       "      <td>187.62</td>\n",
       "      <td>1.11184</td>\n",
       "      <td>-0.054578</td>\n",
       "      <td>0.002979</td>\n",
       "      <td>0.01030</td>\n",
       "    </tr>\n",
       "    <tr>\n",
       "      <th>10</th>\n",
       "      <td>191.16</td>\n",
       "      <td>1.11573</td>\n",
       "      <td>-0.074476</td>\n",
       "      <td>0.005547</td>\n",
       "      <td>0.01419</td>\n",
       "    </tr>\n",
       "    <tr>\n",
       "      <th>11</th>\n",
       "      <td>194.70</td>\n",
       "      <td>1.11975</td>\n",
       "      <td>-0.094374</td>\n",
       "      <td>0.008906</td>\n",
       "      <td>0.01821</td>\n",
       "    </tr>\n",
       "  </tbody>\n",
       "</table>\n",
       "</div>"
      ],
      "text/plain": [
       "    Volumen  c_a_min  termino_lineal  termino_cuadratico  diferencia\n",
       "0    159.30  1.08425        0.104603            0.010942    -0.01729\n",
       "1    162.84  1.08725        0.084706            0.007175    -0.01429\n",
       "2    166.38  1.09041        0.064808            0.004200    -0.01113\n",
       "3    169.92  1.09371        0.044910            0.002017    -0.00783\n",
       "4    173.46  1.09710        0.025013            0.000626    -0.00444\n",
       "5    177.00  1.10063        0.005115            0.000026    -0.00091\n",
       "6    177.91  1.10154        0.000000            0.000000     0.00000\n",
       "7    180.54  1.10426       -0.014783            0.000219     0.00272\n",
       "8    184.08  1.10797       -0.034680            0.001203     0.00643\n",
       "9    187.62  1.11184       -0.054578            0.002979     0.01030\n",
       "10   191.16  1.11573       -0.074476            0.005547     0.01419\n",
       "11   194.70  1.11975       -0.094374            0.008906     0.01821"
      ]
     },
     "execution_count": 279,
     "metadata": {},
     "output_type": "execute_result"
    }
   ],
   "source": [
    "df = pd.read_csv('valores-minimos-uniendo-177_09.csv')\n",
    "df.drop(columns=['Energia_min'], inplace=True)\n",
    "df['termino_lineal'] = df['Volumen'].apply(lambda x: 1 - (x / V0))\n",
    "df['termino_cuadratico'] = df['Volumen'].apply(lambda x: (1 - (x / V0))**2)\n",
    "df['diferencia'] = df['c_a_min'].apply(lambda x: x-c_a_V0)\n",
    "df"
   ]
  },
  {
   "cell_type": "markdown",
   "metadata": {},
   "source": [
    "## Eliminando columnas innecesarias para el ajuste."
   ]
  },
  {
   "cell_type": "code",
   "execution_count": 280,
   "metadata": {},
   "outputs": [],
   "source": [
    "df_copy = df.copy()\n",
    "df_copy.drop(columns=['Volumen','c_a_min'],inplace=True)"
   ]
  },
  {
   "cell_type": "markdown",
   "metadata": {},
   "source": [
    "## Separando dataframe y convirtiendo en matriz"
   ]
  },
  {
   "cell_type": "code",
   "execution_count": 281,
   "metadata": {},
   "outputs": [
    {
     "name": "stdout",
     "output_type": "stream",
     "text": [
      "[[ 1.04603451e-01  1.09418820e-02]\n",
      " [ 8.47057501e-02  7.17506410e-03]\n",
      " [ 6.48080490e-02  4.20008322e-03]\n",
      " [ 4.49103479e-02  2.01693935e-03]\n",
      " [ 2.50126468e-02  6.25632502e-04]\n",
      " [ 5.11494576e-03  2.61626701e-05]\n",
      " [ 0.00000000e+00  0.00000000e+00]\n",
      " [-1.47827553e-02  2.18529855e-04]\n",
      " [-3.46804564e-02  1.20273406e-03]\n",
      " [-5.45781575e-02  2.97877528e-03]\n",
      " [-7.44758586e-02  5.54665351e-03]\n",
      " [-9.43735597e-02  8.90636876e-03]] [-0.01729 -0.01429 -0.01113 -0.00783 -0.00444 -0.00091  0.       0.00272\n",
      "  0.00643  0.0103   0.01419  0.01821]\n"
     ]
    }
   ],
   "source": [
    "A = df_copy.iloc[:,0:2].values\n",
    "b = df_copy['diferencia'].values\n",
    "\n",
    "print(A,b)"
   ]
  },
  {
   "cell_type": "markdown",
   "metadata": {},
   "source": [
    "## Entontrar parámetros $\\alpha$ y $\\beta$ resolviendo lo siguiente:\n",
    "\n",
    "$$\n",
    "x = A^{-1}b\n",
    "$$\n",
    "\n",
    "donde $x=[\\alpha\\ \\beta]$\n",
    "\n",
    "Sin embargo, al tratarse de una matriz no cuadrada, procederemos a hacer una descomposición QR, para así proceder a resolver el siguiente sistema:\n",
    "\n",
    "$$\n",
    "x = R^{-1}Q^{T}b\n",
    "$$"
   ]
  },
  {
   "cell_type": "code",
   "execution_count": 282,
   "metadata": {},
   "outputs": [
    {
     "name": "stdout",
     "output_type": "stream",
     "text": [
      "alpha = -0.18024\n",
      "beta = 0.13883\n"
     ]
    }
   ],
   "source": [
    "Q, R = np.linalg.qr(A)\n",
    "\n",
    "alpha, beta = np.linalg.solve(R, np.dot(Q.T,b))\n",
    "print('alpha =',alpha.round(5))\n",
    "print('beta =',beta.round(5))"
   ]
  },
  {
   "cell_type": "markdown",
   "metadata": {},
   "source": [
    "## Conclusión\n",
    "\n",
    "$$\n",
    "\\boxed{\\therefore\\ (c/a)(V) = (c/a)(V_0) + \\alpha(1-V/V_0) + \\beta(1-V/V_0)^2}\n",
    "$$\n",
    "\n",
    "con $\\alpha = -0.18024$, $\\beta = 0.13883$ y $(c/a)(V_0)=1.10154$"
   ]
  },
  {
   "cell_type": "markdown",
   "metadata": {},
   "source": [
    "## Regresando a directorio principal"
   ]
  },
  {
   "cell_type": "code",
   "execution_count": 283,
   "metadata": {},
   "outputs": [],
   "source": [
    "os.chdir(directorio_principal)"
   ]
  }
 ],
 "metadata": {
  "interpreter": {
   "hash": "9449b7975baa3b75bf9f8850799a9b45986a27edda55fbf504f3b36b29cce414"
  },
  "kernelspec": {
   "display_name": "Python 3.9.12 ('MoB2')",
   "language": "python",
   "name": "python3"
  },
  "language_info": {
   "codemirror_mode": {
    "name": "ipython",
    "version": 3
   },
   "file_extension": ".py",
   "mimetype": "text/x-python",
   "name": "python",
   "nbconvert_exporter": "python",
   "pygments_lexer": "ipython3",
   "version": "3.9.12"
  },
  "orig_nbformat": 4
 },
 "nbformat": 4,
 "nbformat_minor": 2
}
