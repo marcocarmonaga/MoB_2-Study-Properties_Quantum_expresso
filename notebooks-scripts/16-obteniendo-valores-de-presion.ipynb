{
 "cells": [
  {
   "cell_type": "markdown",
   "metadata": {},
   "source": [
    "# Obteniendo valores de presión para cada volumen, evaluando la ecuación de estado de Birch–Murnaghan"
   ]
  },
  {
   "cell_type": "markdown",
   "metadata": {},
   "source": [
    "$$\n",
    "P(V) = \\frac{3B_0}{2}\\left[ \\left(\\frac{V_{0}}{V}\\right)^{\\frac{7}{3}} -\\left(\\frac{V_{0}}{V}\\right)^{\\frac{5}{3}} \\right]\\left\\{1+\\frac{3}{4}\\left(B_0^\\prime-4\\right)\\left[ \\left(\\frac{V_{0}}{V}\\right)^{\\frac{7}{3}} -1 \\right]\\right\\}\n",
    "$$"
   ]
  },
  {
   "cell_type": "markdown",
   "metadata": {},
   "source": [
    "## Importando liberías a utilizar"
   ]
  },
  {
   "cell_type": "code",
   "execution_count": 23,
   "metadata": {},
   "outputs": [],
   "source": [
    "import os\n",
    "import pandas as pd\n",
    "import numpy as np"
   ]
  },
  {
   "cell_type": "markdown",
   "metadata": {},
   "source": [
    "## Definiendo directorio principal"
   ]
  },
  {
   "cell_type": "code",
   "execution_count": 24,
   "metadata": {},
   "outputs": [],
   "source": [
    "directorio_principal = '/home/marcocarmonaga/Documents/MoB_2-Study-Properties_Quantum_expresso/notebooks-scripts'\n",
    "os.chdir(directorio_principal)"
   ]
  },
  {
   "cell_type": "markdown",
   "metadata": {},
   "source": [
    "## Cambiando a carpeta sobre la que se trabajará (directorio secundario)"
   ]
  },
  {
   "cell_type": "code",
   "execution_count": 25,
   "metadata": {},
   "outputs": [],
   "source": [
    "energia_total_directory = '../data/processed/'\n",
    "os.chdir(energia_total_directory)"
   ]
  },
  {
   "cell_type": "markdown",
   "metadata": {},
   "source": [
    "## Definiendo variables ($V_0$, $B_0$, $B_0^\\prime$) a partir del archivo `data/processed/eos/eos_out.txt`"
   ]
  },
  {
   "cell_type": "code",
   "execution_count": 26,
   "metadata": {},
   "outputs": [],
   "source": [
    "V0 = 177.91\n",
    "B0 = 299.8\n",
    "B0_prima = 4.12\n",
    "c_a_V0 = 1.10154\n",
    "alpha = -0.18024\n",
    "beta = 0.13883"
   ]
  },
  {
   "cell_type": "markdown",
   "metadata": {},
   "source": [
    "## Definiendo ecuación de estado de Birch–Murnaghan"
   ]
  },
  {
   "cell_type": "code",
   "execution_count": 27,
   "metadata": {},
   "outputs": [],
   "source": [
    "def P(V):\n",
    "    return round((3/2) * B0 * (((V0 / V)**(7/3)) - ((V0 / V)**(5/3))) * (1 + (3/4) * (B0_prima - 4) * (((V0 / V)**(7/3)) - 1)),5)\n",
    "\n",
    "def c_a(V):\n",
    "    return c_a_V0 + alpha*(1 - (V / V0)) + beta*((1 - (V / V0))**2)"
   ]
  },
  {
   "cell_type": "markdown",
   "metadata": {},
   "source": [
    "## Importando dataframe sobre el que se trabajará"
   ]
  },
  {
   "cell_type": "code",
   "execution_count": 28,
   "metadata": {},
   "outputs": [
    {
     "name": "stderr",
     "output_type": "stream",
     "text": [
      "/tmp/ipykernel_7014/936916224.py:3: FutureWarning: The frame.append method is deprecated and will be removed from pandas in a future version. Use pandas.concat instead.\n",
      "  df = df.append({'Volumen':V0,'c_a_min':c_a(V0)},ignore_index=True)\n"
     ]
    },
    {
     "data": {
      "text/html": [
       "<div>\n",
       "<style scoped>\n",
       "    .dataframe tbody tr th:only-of-type {\n",
       "        vertical-align: middle;\n",
       "    }\n",
       "\n",
       "    .dataframe tbody tr th {\n",
       "        vertical-align: top;\n",
       "    }\n",
       "\n",
       "    .dataframe thead th {\n",
       "        text-align: right;\n",
       "    }\n",
       "</style>\n",
       "<table border=\"1\" class=\"dataframe\">\n",
       "  <thead>\n",
       "    <tr style=\"text-align: right;\">\n",
       "      <th></th>\n",
       "      <th>Volumen</th>\n",
       "      <th>c_a_min</th>\n",
       "      <th>Presion</th>\n",
       "    </tr>\n",
       "  </thead>\n",
       "  <tbody>\n",
       "    <tr>\n",
       "      <th>0</th>\n",
       "      <td>159.30</td>\n",
       "      <td>1.08425</td>\n",
       "      <td>42.41913</td>\n",
       "    </tr>\n",
       "    <tr>\n",
       "      <th>1</th>\n",
       "      <td>162.84</td>\n",
       "      <td>1.08725</td>\n",
       "      <td>32.33247</td>\n",
       "    </tr>\n",
       "    <tr>\n",
       "      <th>2</th>\n",
       "      <td>166.38</td>\n",
       "      <td>1.09041</td>\n",
       "      <td>23.31998</td>\n",
       "    </tr>\n",
       "    <tr>\n",
       "      <th>3</th>\n",
       "      <td>169.92</td>\n",
       "      <td>1.09371</td>\n",
       "      <td>15.25625</td>\n",
       "    </tr>\n",
       "    <tr>\n",
       "      <th>4</th>\n",
       "      <td>173.46</td>\n",
       "      <td>1.09710</td>\n",
       "      <td>8.03268</td>\n",
       "    </tr>\n",
       "    <tr>\n",
       "      <th>5</th>\n",
       "      <td>177.00</td>\n",
       "      <td>1.10063</td>\n",
       "      <td>1.55493</td>\n",
       "    </tr>\n",
       "    <tr>\n",
       "      <th>11</th>\n",
       "      <td>177.91</td>\n",
       "      <td>1.10154</td>\n",
       "      <td>0.00000</td>\n",
       "    </tr>\n",
       "    <tr>\n",
       "      <th>6</th>\n",
       "      <td>180.54</td>\n",
       "      <td>1.10426</td>\n",
       "      <td>-4.25926</td>\n",
       "    </tr>\n",
       "    <tr>\n",
       "      <th>7</th>\n",
       "      <td>184.08</td>\n",
       "      <td>1.10797</td>\n",
       "      <td>-9.48178</td>\n",
       "    </tr>\n",
       "    <tr>\n",
       "      <th>8</th>\n",
       "      <td>187.62</td>\n",
       "      <td>1.11184</td>\n",
       "      <td>-14.17565</td>\n",
       "    </tr>\n",
       "    <tr>\n",
       "      <th>9</th>\n",
       "      <td>191.16</td>\n",
       "      <td>1.11573</td>\n",
       "      <td>-18.39626</td>\n",
       "    </tr>\n",
       "    <tr>\n",
       "      <th>10</th>\n",
       "      <td>194.70</td>\n",
       "      <td>1.11975</td>\n",
       "      <td>-22.19244</td>\n",
       "    </tr>\n",
       "  </tbody>\n",
       "</table>\n",
       "</div>"
      ],
      "text/plain": [
       "    Volumen  c_a_min   Presion\n",
       "0    159.30  1.08425  42.41913\n",
       "1    162.84  1.08725  32.33247\n",
       "2    166.38  1.09041  23.31998\n",
       "3    169.92  1.09371  15.25625\n",
       "4    173.46  1.09710   8.03268\n",
       "5    177.00  1.10063   1.55493\n",
       "11   177.91  1.10154   0.00000\n",
       "6    180.54  1.10426  -4.25926\n",
       "7    184.08  1.10797  -9.48178\n",
       "8    187.62  1.11184 -14.17565\n",
       "9    191.16  1.11573 -18.39626\n",
       "10   194.70  1.11975 -22.19244"
      ]
     },
     "execution_count": 28,
     "metadata": {},
     "output_type": "execute_result"
    }
   ],
   "source": [
    "df = pd.read_csv('valores_minimos.csv')\n",
    "df.drop(columns=['Energia_min'],inplace=True)\n",
    "df = df.append({'Volumen':V0,'c_a_min':c_a(V0)},ignore_index=True)\n",
    "df.sort_values(by='Volumen',inplace=True)\n",
    "df['Presion'] = df['Volumen'].apply(P)\n",
    "df"
   ]
  },
  {
   "cell_type": "markdown",
   "metadata": {},
   "source": [
    "## Exportamos el dataframe anterior a un csv"
   ]
  },
  {
   "cell_type": "code",
   "execution_count": 29,
   "metadata": {},
   "outputs": [],
   "source": [
    "df.to_csv('volumen-c_a-presion.csv', index=False)"
   ]
  },
  {
   "cell_type": "markdown",
   "metadata": {},
   "source": [
    "## Regresando a directorio principal"
   ]
  },
  {
   "cell_type": "code",
   "execution_count": 30,
   "metadata": {},
   "outputs": [],
   "source": [
    "os.chdir(directorio_principal)"
   ]
  }
 ],
 "metadata": {
  "interpreter": {
   "hash": "9449b7975baa3b75bf9f8850799a9b45986a27edda55fbf504f3b36b29cce414"
  },
  "kernelspec": {
   "display_name": "Python 3.9.12 ('MoB2')",
   "language": "python",
   "name": "python3"
  },
  "language_info": {
   "codemirror_mode": {
    "name": "ipython",
    "version": 3
   },
   "file_extension": ".py",
   "mimetype": "text/x-python",
   "name": "python",
   "nbconvert_exporter": "python",
   "pygments_lexer": "ipython3",
   "version": "3.9.12"
  },
  "orig_nbformat": 4
 },
 "nbformat": 4,
 "nbformat_minor": 2
}
